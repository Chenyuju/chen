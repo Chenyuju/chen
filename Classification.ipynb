{
  "nbformat": 4,
  "nbformat_minor": 0,
  "metadata": {
    "colab": {
      "name": "Colab's New Code Editor",
      "provenance": [],
      "collapsed_sections": [],
      "include_colab_link": true
    },
    "kernelspec": {
      "display_name": "Python 3",
      "name": "python3"
    }
  },
  "cells": [
    {
      "cell_type": "markdown",
      "metadata": {
        "id": "view-in-github",
        "colab_type": "text"
      },
      "source": [
        "<a href=\"https://colab.research.google.com/github/Chenyuju/chen/blob/master/Classification.ipynb\" target=\"_parent\"><img src=\"https://colab.research.google.com/assets/colab-badge.svg\" alt=\"Open In Colab\"/></a>"
      ]
    },
    {
      "cell_type": "code",
      "metadata": {
        "id": "dDR18D7AybGU",
        "colab_type": "code",
        "colab": {
          "base_uri": "https://localhost:8080/",
          "height": 347
        },
        "outputId": "54df1c19-63bf-43b7-d67c-6fbb37e903bd"
      },
      "source": [
        "import csv\n",
        "import numpy as np\n",
        "import matplotlib.pyplot as plt\n",
        "\n",
        "def loadCSV(filename): \n",
        "    with open(filename,\"r\") as csvfile: \n",
        "        lines = csv.reader(csvfile) \n",
        "        dataset = list(lines) \n",
        "        for i in range(len(dataset)): \n",
        "            dataset[i] = [float(x) for x in dataset[i]]      \n",
        "    return np.array(dataset) \n",
        "\n",
        "def normalize(X): \n",
        "    ''' \n",
        "    function to normalize feature matrix, X \n",
        "    '''\n",
        "    mins = np.min(X, axis = 0) \n",
        "    maxs = np.max(X, axis = 0) \n",
        "    rng = maxs - mins \n",
        "    norm_X = 1 - ((maxs - X)/rng) \n",
        "    return norm_X \n",
        "\n",
        "def sigmoid_function(beta, X): \n",
        "    return 1.0/(1 + np.exp(-np.dot(X, beta.T))) \n",
        "\n",
        "def log_gradient(beta, X, y): \n",
        "    ''' \n",
        "    logistic gradient function \n",
        "    '''\n",
        "    first_calc = sigmoid_function(beta, X) - y.reshape(X.shape[0], -1) \n",
        "    final_calc = np.dot(first_calc.T, X) \n",
        "    return final_calc \n",
        "\n",
        "def cost_func(beta, X, y): \n",
        "    ''' \n",
        "    cost function, J \n",
        "    '''\n",
        "    log_func_v = sigmoid_function(beta, X) \n",
        "    y = np.squeeze(y) \n",
        "    step1 = y * np.log(log_func_v) \n",
        "    step2 = (1 - y) * np.log(1 - log_func_v) \n",
        "    final = -step1 - step2 \n",
        "    return np.mean(final) \n",
        "\n",
        "def grad_desc(X, y, beta, lr=.01, converge_change=.001): \n",
        "    ''' \n",
        "    gradient descent function \n",
        "    '''\n",
        "    cost = cost_func(beta, X, y) \n",
        "    change_cost = 1\n",
        "    num_iter = 1\n",
        "      \n",
        "    while(change_cost > converge_change): \n",
        "        old_cost = cost \n",
        "        beta = beta - (lr * log_gradient(beta, X, y)) \n",
        "        cost = cost_func(beta, X, y) \n",
        "        change_cost = old_cost - cost \n",
        "        num_iter += 1\n",
        "      \n",
        "    return beta, num_iter  \n",
        "\n",
        "def pred_values(beta, X): \n",
        "    ''' \n",
        "    function to predict labels \n",
        "    '''\n",
        "    pred_prob = sigmoid_function(beta, X) \n",
        "    pred_value = np.where(pred_prob >= .5, 1, 0) \n",
        "    return np.squeeze(pred_value) \n",
        "\n",
        "def plot_reg(X, y, beta): \n",
        "    ''' \n",
        "    function to plot decision boundary \n",
        "    '''\n",
        "    # labelled observations \n",
        "    x_0 = X[np.where(y == 0.0)] \n",
        "    x_1 = X[np.where(y == 1.0)] \n",
        "      \n",
        "    # plotting points with diff color for diff label \n",
        "    plt.scatter([x_0[:, 0]], [x_0[:, 1]], c='b', label='y = 0') \n",
        "    plt.scatter([x_1[:, 0]], [x_1[:, 1]], c='r', label='y = 1') \n",
        "      \n",
        "    # plotting decision boundary \n",
        "    #x1 = np.arange(0, 3, 0.2) \n",
        "    x1 = np.linspace(X[:,[0]].min(), X[:,[0]].max(), 100)\n",
        "    x2 = (-beta[0,0] + beta[0,1]*x1)/beta[0,2] \n",
        "    #x2 = np.linspace(X[:,[1]].min(), X[:,[1]].max(), 100)\n",
        "    plt.plot(x1, x2, c='k', label='reg line') \n",
        "  \n",
        "    plt.xlabel('x1') \n",
        "    plt.ylabel('x2') \n",
        "    plt.legend() \n",
        "    plt.show() \n",
        "\n",
        "if __name__ == \"__main__\": \n",
        "    # load the dataset \n",
        "    dataset = loadCSV('/content/sample_data/dataset4.csv') \n",
        "      \n",
        "    # normalizing feature matrix \n",
        "    X = normalize(dataset[:, :-1]) \n",
        "      \n",
        "    # stacking columns wth all ones in feature matrix \n",
        "    X = np.hstack((np.matrix(np.ones(X.shape[0])).T, X)) \n",
        "  \n",
        "    # response vector \n",
        "    y = dataset[:, -1] \n",
        "  \n",
        "    # initial beta values \n",
        "    beta = np.matrix(np.zeros(X.shape[1])) \n",
        "  \n",
        "    # beta values after running gradient descent \n",
        "    beta, num_iter = grad_desc(X, y, beta) \n",
        "  \n",
        "    # estimated beta values and number of iterations \n",
        "    print(\"Estimated regression coefficients:\", beta) \n",
        "    print(\"No. of iterations:\", num_iter) \n",
        "  \n",
        "    # predicted labels \n",
        "    y_pred = pred_values(beta, X) \n",
        "      \n",
        "    # number of correctly predicted labels \n",
        "    print(\"Correctly predicted labels:\", np.sum(y == y_pred)) \n",
        "\n",
        "    accuracy = (y_pred == y).sum() \n",
        "    print(accuracy*100) \n",
        "    # plotting regression line \n",
        "    plot_reg(X, y, beta) "
      ],
      "execution_count": 38,
      "outputs": [
        {
          "output_type": "stream",
          "text": [
            "Estimated regression coefficients: [[ 1.55825984 -2.31520778 -0.53856716]]\n",
            "No. of iterations: 159\n",
            "Correctly predicted labels: 185\n",
            "18500\n"
          ],
          "name": "stdout"
        },
        {
          "output_type": "display_data",
          "data": {
            "image/png": "[encoded data removed]",
            "text/plain": [
              "<Figure size 432x288 with 1 Axes>"
            ]
          },
          "metadata": {
            "tags": []
          }
        }
      ]
    },
    {
      "cell_type": "markdown",
      "metadata": {
        "id": "6l2aIlDoYU73",
        "colab_type": "text"
      },
      "source": [
        "Logistic Regression\n",
        "\n",
        "1) logistic/sigmoid function\n",
        " sigmoid(x) = 1/(1+e^x)\n",
        "\n",
        "2) cost function\n",
        "  cost(beta) = -[y*log(sigmoid(x)) + (1-y)*log(1-sigmoid(x))]\n",
        "\n",
        "3) gradient descent\n",
        "  grad(beta) = grad(beta) - alpha(sigmoid(x) - y) * x\n",
        "\n",
        "cost function for y\n",
        " cost(sigmoid(x),1) = -log(sigmoid(x))\n",
        " cost(sigmoid(x),0) = -log(1-sigmoid(x))"
      ]
    },
    {
      "cell_type": "code",
      "metadata": {
        "id": "cmuEQPRZ9Zaz",
        "colab_type": "code",
        "colab": {
          "base_uri": "https://localhost:8080/",
          "height": 34
        },
        "outputId": "8b5b7ba4-4519-4d76-f47c-d0d10a8bf440"
      },
      "source": [
        "%reset"
      ],
      "execution_count": 379,
      "outputs": [
        {
          "output_type": "stream",
          "text": [
            "Once deleted, variables cannot be recovered. Proceed (y/[n])? y\n"
          ],
          "name": "stdout"
        }
      ]
    },
    {
      "cell_type": "code",
      "metadata": {
        "id": "hNOTjviiXPca",
        "colab_type": "code",
        "colab": {}
      },
      "source": [
        "import pandas as pd\n",
        "import matplotlib.pyplot as plt\n",
        "import numpy as np\n",
        "\n",
        "data = pd.read_csv(\"/content/sample_data/g_h_w.csv\")\n",
        "\n",
        "#X = data[[\"age\", \"chol\"]]\n",
        "X = data[[\"height\", \"weight\"]]\n",
        "\n",
        "#Y = data[[\"target\"]].values\n",
        "Y = data[[\"sex\"]].values"
      ],
      "execution_count": 0,
      "outputs": []
    },
    {
      "cell_type": "code",
      "metadata": {
        "id": "kdaBG-K80Zn0",
        "colab_type": "code",
        "colab": {
          "base_uri": "https://localhost:8080/",
          "height": 34
        },
        "outputId": "54fad1f9-ff29-49d3-eed1-ad7f0155877c"
      },
      "source": [
        "from sklearn.preprocessing import StandardScaler\n",
        "\n",
        "X=StandardScaler().fit_transform(X)\n",
        "print(X.shape)"
      ],
      "execution_count": 22,
      "outputs": [
        {
          "output_type": "stream",
          "text": [
            "(10000, 2)\n"
          ],
          "name": "stdout"
        }
      ]
    },
    {
      "cell_type": "code",
      "metadata": {
        "id": "MkmLsahk1FSi",
        "colab_type": "code",
        "colab": {
          "base_uri": "https://localhost:8080/",
          "height": 369
        },
        "outputId": "57d51da7-887f-4a60-9a7d-3d0867c47b7d"
      },
      "source": [
        "import seaborn as sns\n",
        "\n",
        "#sns.lmplot('age', 'chol', data, hue='target', fit_reg=False)\n",
        "sns.lmplot('height', 'weight', data, hue='sex', fit_reg=False)\n",
        "\n",
        "plt.show()"
      ],
      "execution_count": 23,
      "outputs": [
        {
          "output_type": "display_data",
          "data": {
            "image/png": "[encoded data removed]",
            "text/plain": [
              "<Figure size 402.375x360 with 1 Axes>"
            ]
          },
          "metadata": {
            "tags": []
          }
        }
      ]
    },
    {
      "cell_type": "code",
      "metadata": {
        "id": "83CITh1m1WGU",
        "colab_type": "code",
        "colab": {}
      },
      "source": [
        "(predict, observe) = X.shape\n",
        "beta  = np.zeros((observe+1, 1))\n",
        "ones = np.ones((predict, 1))\n",
        "\n",
        "X = np.hstack((ones, X))\n",
        "\n",
        "from sklearn.model_selection import train_test_split\n",
        "\n",
        "X_train, X_test, Y_train, Y_test = train_test_split(X, Y, test_size=0.2, random_state=0)"
      ],
      "execution_count": 0,
      "outputs": []
    },
    {
      "cell_type": "code",
      "metadata": {
        "id": "ZBtGS9-0BLTp",
        "colab_type": "code",
        "colab": {}
      },
      "source": [
        "def sigmoid_function(x):\n",
        "  return 1/(1+np.exp(-x))"
      ],
      "execution_count": 0,
      "outputs": []
    },
    {
      "cell_type": "code",
      "metadata": {
        "id": "IPneBdN6BXci",
        "colab_type": "code",
        "colab": {}
      },
      "source": [
        "def cost_function(beta, X_train, Y_train):\n",
        "  sig =sigmoid_function(X_train)\n",
        "\n",
        "  C = -(np.sum(np.multiply(Y_train, np.log(sig))\n",
        "  + np.multiply((1-Y_train), np.log(1-sig))))\n",
        "  return C"
      ],
      "execution_count": 0,
      "outputs": []
    },
    {
      "cell_type": "code",
      "metadata": {
        "id": "SdpNFBrPDqDB",
        "colab_type": "code",
        "colab": {}
      },
      "source": [
        "iterations = 100\n",
        "alpha = 0.01\n",
        "\n",
        "def gradient_descent(X_train, Y_train, beta, alpha, iterations):\n",
        "  for _ in range(iterations):\n",
        "    sig = sigmoid_function(X_train @ beta)\n",
        "    beta = beta - (alpha* X_train.T @ (sig - Y_train))\n",
        "  return beta"
      ],
      "execution_count": 0,
      "outputs": []
    },
    {
      "cell_type": "code",
      "metadata": {
        "id": "7qnyAMcYEbAe",
        "colab_type": "code",
        "colab": {
          "base_uri": "https://localhost:8080/",
          "height": 34
        },
        "outputId": "b855e9a9-edf7-4fdb-bbd3-09ad88fd8648"
      },
      "source": [
        "beta = gradient_descent(X_train, Y_train, beta, alpha, iterations)\n",
        "\n",
        "C = cost_function(beta, X_train, Y_train)\n",
        "print(C)"
      ],
      "execution_count": 31,
      "outputs": [
        {
          "output_type": "stream",
          "text": [
            "25403.893276115872\n"
          ],
          "name": "stdout"
        }
      ]
    },
    {
      "cell_type": "code",
      "metadata": {
        "id": "va6NW97RFhip",
        "colab_type": "code",
        "colab": {
          "base_uri": "https://localhost:8080/",
          "height": 369
        },
        "outputId": "ef1bd6dd-6c22-4c2a-fb3f-cd436222f7ea"
      },
      "source": [
        "x1_vals = np.linspace(X_train[:,[1]].min(), X_train[:,[1]].max(), iterations)\n",
        "#x2_vals = (-beta[0, 0] - (beta[1, 0] * x1_vals)) / beta[2, 0]\n",
        "x2_vals = np.linspace(X_train[:,[2]].min(), X_train[:,[2]].max(), iterations)\n",
        "\n",
        "#sns.lmplot('age', 'chol', data, hue='target', fit_reg=False)\n",
        "sns.lmplot('height', 'weight', data, hue='sex', fit_reg=False)\n",
        "\n",
        "\n",
        "plt.plot(x1_vals, x2_vals,color='green')\n",
        "plt.show()"
      ],
      "execution_count": 32,
      "outputs": [
        {
          "output_type": "display_data",
          "data": {
            "image/png": "[encoded data removed]",
            "text/plain": [
              "<Figure size 402.375x360 with 1 Axes>"
            ]
          },
          "metadata": {
            "tags": []
          }
        }
      ]
    },
    {
      "cell_type": "code",
      "metadata": {
        "id": "nGo-lq8XHH8L",
        "colab_type": "code",
        "colab": {}
      },
      "source": [
        "def predict_value(X_train, beta):\n",
        "  return sigmoid_function(X_train @ beta) >= 0.5"
      ],
      "execution_count": 0,
      "outputs": []
    },
    {
      "cell_type": "code",
      "metadata": {
        "id": "VDZVvcJZHo3N",
        "colab_type": "code",
        "colab": {
          "base_uri": "https://localhost:8080/",
          "height": 34
        },
        "outputId": "1c551e80-7b9e-49fe-cbe5-95e895597e9c"
      },
      "source": [
        "pred = predict_value(X_train, beta)\n",
        "accuracy = (pred == Y_train).sum() / train_samples\n",
        "accuracy_p = accuracy*100\n",
        "\n",
        "print(\"Accuracy of Logistic Regression : \", accuracy_p)"
      ],
      "execution_count": 17,
      "outputs": [
        {
          "output_type": "stream",
          "text": [
            "Accuracy of Logistic Regression :  87.6\n"
          ],
          "name": "stdout"
        }
      ]
    },
    {
      "cell_type": "code",
      "metadata": {
        "id": "7NK6bONWPamR",
        "colab_type": "code",
        "colab": {
          "base_uri": "https://localhost:8080/",
          "height": 122
        },
        "outputId": "a8874402-16cc-46e2-c1af-e10ae4485816"
      },
      "source": [
        "from sklearn.linear_model import LogisticRegression\n",
        "from sklearn.metrics import confusion_matrix\n",
        "import seaborn as sns\n",
        "\n",
        "classifier = LogisticRegression()\n",
        "classifier.fit(X_train, Y_train)\n",
        "\n",
        "print('Accuracy of Logistic Regression : {:.2f} \\n'.format(classifier.score(X_train, Y_train)))\n",
        "\n",
        "'''\n",
        "cnf_matrix = confusion_matrix(X_train, Y_train)\n",
        "\n",
        "class_names=[0,1] # name  of classes\n",
        "fig, ax = plt.subplots()\n",
        "tick_marks = np.arange(len(class_names))\n",
        "plt.xticks(tick_marks, class_names)\n",
        "plt.yticks(tick_marks, class_names)\n",
        "\n",
        "sns.heatmap(pd.DataFrame(cnf_matrix), annot=True, cmap=\"YlGnBu\" ,fmt='g')\n",
        "ax.xaxis.set_label_position(\"top\")\n",
        "plt.tight_layout()\n",
        "plt.title('Confusion matrix', y=1.1)\n",
        "plt.ylabel('Actual label')\n",
        "plt.xlabel('Predicted label')\n",
        "\n",
        "'''#confusion_matrix = confusion_matrix(X_train, Y_train)\n",
        "#print(confusion_matrix)"
      ],
      "execution_count": 18,
      "outputs": [
        {
          "output_type": "stream",
          "text": [
            "Accuracy of Logistic Regression : 0.92 \n",
            "\n"
          ],
          "name": "stdout"
        },
        {
          "output_type": "stream",
          "text": [
            "/usr/local/lib/python3.6/dist-packages/sklearn/utils/validation.py:760: DataConversionWarning: A column-vector y was passed when a 1d array was expected. Please change the shape of y to (n_samples, ), for example using ravel().\n",
            "  y = column_or_1d(y, warn=True)\n"
          ],
          "name": "stderr"
        },
        {
          "output_type": "execute_result",
          "data": {
            "text/plain": [
              "'\\ncnf_matrix = confusion_matrix(X_train, Y_train)\\n\\nclass_names=[0,1] # name  of classes\\nfig, ax = plt.subplots()\\ntick_marks = np.arange(len(class_names))\\nplt.xticks(tick_marks, class_names)\\nplt.yticks(tick_marks, class_names)\\n\\nsns.heatmap(pd.DataFrame(cnf_matrix), annot=True, cmap=\"YlGnBu\" ,fmt=\\'g\\')\\nax.xaxis.set_label_position(\"top\")\\nplt.tight_layout()\\nplt.title(\\'Confusion matrix\\', y=1.1)\\nplt.ylabel(\\'Actual label\\')\\nplt.xlabel(\\'Predicted label\\')\\n\\n'"
            ]
          },
          "metadata": {
            "tags": []
          },
          "execution_count": 18
        }
      ]
    },
    {
      "cell_type": "code",
      "metadata": {
        "id": "9gqKMaLfH39Z",
        "colab_type": "code",
        "colab": {}
      },
      "source": [
        "def predict_test(X_test, beta):\n",
        "  return sigmoid_function(X_test @ beta)"
      ],
      "execution_count": 0,
      "outputs": []
    },
    {
      "cell_type": "code",
      "metadata": {
        "id": "XvYYsWiTFsx3",
        "colab_type": "code",
        "colab": {
          "base_uri": "https://localhost:8080/",
          "height": 34
        },
        "outputId": "0f830afe-0f17-4589-dc2c-07789303c69d"
      },
      "source": [
        "example1 = np.array([44, 226, 1])\n",
        "example0 = np.array([62, 267, 0])\n",
        "\n",
        "hypothesis = sigmoid_function(example1)\n",
        "\n",
        "print(hypothesis[2])"
      ],
      "execution_count": 14,
      "outputs": [
        {
          "output_type": "stream",
          "text": [
            "0.7310585786300049\n"
          ],
          "name": "stdout"
        }
      ]
    },
    {
      "cell_type": "code",
      "metadata": {
        "id": "FJlZWCTUnWRq",
        "colab_type": "code",
        "colab": {
          "base_uri": "https://localhost:8080/",
          "height": 367
        },
        "outputId": "0a1391b5-c47c-4434-849c-bc79d6fc5fa9"
      },
      "source": [
        "import math\n",
        "import numpy\n",
        "from activation_functions import sigmoid, sigmoid_prime\n",
        "\n",
        "def predict(features, weights):\n",
        "  z = np.dot(features, weights)\n",
        "  return sigmoid(z)\n",
        "\n",
        "def cost_function(features, labels, weights):\n",
        "    observations = len(labels)\n",
        "    predictions = predict(features, weights)\n",
        "\n",
        "    class1_cost = -labels*np.log(predictions)\n",
        "    class2_cost = (1-labels)*np.log(1-predictions)\n",
        "\n",
        "    cost = class1_cost - class2_cost\n",
        "\n",
        "    cost = cost.sum() / observations\n",
        "    return cost\n",
        "\n",
        "def update_weights(features, labels, weights, lr):\n",
        "    N = len(features)\n",
        "    predictions = predict(features, weights)\n",
        "\n",
        "    return weights\n",
        "\n",
        "\n",
        "def decision_boundary(prob):\n",
        "  return 1 if prob >= .5 else 0\n",
        "\n",
        "\n",
        "def classify(predictions):\n",
        "\n",
        "def train(features, labels, weights, lr, iters):\n",
        "    cost_history = []\n",
        "\n",
        "    for i in range(iters):\n",
        "        weights = update_weights(features, labels, weights, lr)\n",
        "\n",
        "        cost = cost_function(features, labels, weights)\n",
        "        cost_history.append(cost)\n",
        "\n",
        "        if i % 1000 == 0:\n",
        "            print (\"iter: \"+str(i) + \" cost: \"+str(cost))\n",
        "\n",
        "    return weights, cost_history\n",
        "\n",
        "\n",
        "def accuracy(predicted_labels, actual_labels):\n",
        "    diff = predicted_labels - actual_labels\n",
        "    return 1.0 - (float(np.count_nonzero(diff)) / len(diff))\n",
        "\n",
        "\n",
        "def plot_decision_boundary(trues, falses):\n",
        "    fig = plt.figure()\n",
        "    ax = fig.add_subplot(111)\n",
        "\n",
        "    no_of_preds = len(trues) + len(falses)\n",
        "\n",
        "    ax.scatter([i for i in range(len(trues))], trues, s=25, c='b', marker=\"o\", label='Trues')\n",
        "    ax.scatter([i for i in range(len(falses))], falses, s=25, c='r', marker=\"s\", label='Falses')\n",
        "\n",
        "    plt.legend(loc='upper right');\n",
        "    ax.set_title(\"Decision Boundary\")\n",
        "    ax.set_xlabel('N/2')\n",
        "    ax.set_ylabel('Predicted Probability')\n",
        "    plt.axhline(.5, color='black')\n",
        "    plt.show()"
      ],
      "execution_count": 367,
      "outputs": [
        {
          "output_type": "error",
          "ename": "ModuleNotFoundError",
          "evalue": "ignored",
          "traceback": [
            "\u001b[0;31m---------------------------------------------------------------------------\u001b[0m",
            "\u001b[0;31mModuleNotFoundError\u001b[0m                       Traceback (most recent call last)",
            "\u001b[0;32m<ipython-input-367-d8c0fe6af2b3>\u001b[0m in \u001b[0;36m<module>\u001b[0;34m()\u001b[0m\n\u001b[1;32m      1\u001b[0m \u001b[0;32mimport\u001b[0m \u001b[0mmath\u001b[0m\u001b[0;34m\u001b[0m\u001b[0;34m\u001b[0m\u001b[0m\n\u001b[1;32m      2\u001b[0m \u001b[0;32mimport\u001b[0m \u001b[0mnumpy\u001b[0m\u001b[0;34m\u001b[0m\u001b[0;34m\u001b[0m\u001b[0m\n\u001b[0;32m----> 3\u001b[0;31m \u001b[0;32mfrom\u001b[0m \u001b[0mactivation_functions\u001b[0m \u001b[0;32mimport\u001b[0m \u001b[0msigmoid\u001b[0m\u001b[0;34m,\u001b[0m \u001b[0msigmoid_prime\u001b[0m\u001b[0;34m\u001b[0m\u001b[0;34m\u001b[0m\u001b[0m\n\u001b[0m\u001b[1;32m      4\u001b[0m \u001b[0;34m\u001b[0m\u001b[0m\n\u001b[1;32m      5\u001b[0m \u001b[0;34m\u001b[0m\u001b[0m\n",
            "\u001b[0;31mModuleNotFoundError\u001b[0m: No module named 'activation_functions'",
            "",
            "\u001b[0;31m---------------------------------------------------------------------------\u001b[0;32m\nNOTE: If your import is failing due to a missing package, you can\nmanually install dependencies using either !pip or !apt.\n\nTo view examples of installing some common dependencies, click the\n\"Open Examples\" button below.\n\u001b[0;31m---------------------------------------------------------------------------\u001b[0m\n"
          ]
        }
      ]
    },
    {
      "cell_type": "code",
      "metadata": {
        "id": "IDri2iq2wvxU",
        "colab_type": "code",
        "colab": {}
      },
      "source": [
        ""
      ],
      "execution_count": 0,
      "outputs": []
    }
  ]
}