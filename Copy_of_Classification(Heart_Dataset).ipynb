{
  "nbformat": 4,
  "nbformat_minor": 0,
  "metadata": {
    "colab": {
      "name": "Copy of Classification(Heart_Dataset).ipynb",
      "provenance": [],
      "collapsed_sections": [],
      "authorship_tag": "ABX9TyMDMMMob8f9HwxWJtxApMYG",
      "include_colab_link": true
    },
    "kernelspec": {
      "name": "python3",
      "display_name": "Python 3"
    }
  },
  "cells": [
    {
      "cell_type": "markdown",
      "metadata": {
        "id": "view-in-github",
        "colab_type": "text"
      },
      "source": [
        "<a href=\"https://colab.research.google.com/github/Chenyuju/chen/blob/master/Copy_of_Classification(Heart_Dataset).ipynb\" target=\"_parent\"><img src=\"https://colab.research.google.com/assets/colab-badge.svg\" alt=\"Open In Colab\"/></a>"
      ]
    },
    {
      "cell_type": "code",
      "metadata": {
        "id": "N_mtXP4e3JlO",
        "colab_type": "code",
        "outputId": "0840315c-2d99-4c48-9d52-8a7f1d805daa",
        "colab": {
          "base_uri": "https://localhost:8080/",
          "height": 34
        }
      },
      "source": [
        "%reset"
      ],
      "execution_count": 151,
      "outputs": [
        {
          "output_type": "stream",
          "text": [
            "Once deleted, variables cannot be recovered. Proceed (y/[n])? y\n"
          ],
          "name": "stdout"
        }
      ]
    },
    {
      "cell_type": "code",
      "metadata": {
        "id": "gI_Fn_YMLSbr",
        "colab_type": "code",
        "colab": {}
      },
      "source": [
        "from pyspark.ml.linalg import Vectors\n",
        "from pyspark.ml import Pipeline\n",
        "from pyspark.ml.feature import IndexToString,StringIndexer, VectorIndexer\n",
        "from pyspark.ml.tuning import CrossValidator, ParamGridBuilder\n",
        "from pyspark.ml.evaluation import MulticlassClassificationEvaluator\n",
        "\n",
        "from pyspark.ml.classification import LogisticRegression\n",
        "from pyspark.ml.classification import DecisionTreeClassifier\n",
        "from pyspark.ml.classification import RandomForestClassifier\n",
        "from pyspark.ml.classification import NaiveBayes\n",
        "from pyspark.ml.classification import GBTClassifier\n",
        "from pyspark.ml.classification import MultilayerPerceptronClassifier\n",
        "from pyspark.ml.classification import OneVsRest"
      ],
      "execution_count": 0,
      "outputs": []
    },
    {
      "cell_type": "code",
      "metadata": {
        "id": "s60t_xqILYjz",
        "colab_type": "code",
        "outputId": "ed45e6e3-5b55-4c0a-95c9-ca109efc1e82",
        "colab": {
          "base_uri": "https://localhost:8080/",
          "height": 289
        }
      },
      "source": [
        "import findspark\n",
        "import pandas as pd\n",
        "import seaborn as sns\n",
        "import pandas as pd\n",
        "import numpy as np\n",
        "import matplotlib.pyplot as plt\n",
        "from pyspark.sql import SparkSession\n",
        "\n",
        "spark = SparkSession.builder.master(\"local[*]\").getOrCreate()\n",
        "sc = spark.sparkContext\n",
        "\n",
        "visualization = pd.read_csv('/content/chen/vheart.csv')\n",
        "visualization.columns = ['age', 'sex', 'cp', 'trestbps', 'chol',\n",
        "              'fbs', 'restecg', 'thalach', 'exang', \n",
        "              'oldpeak', 'slope', 'ca', 'thal', 'target']\n",
        "\n",
        "heart_data = spark.read.format('com.databricks.spark.csv').\\\n",
        "                              options(header='true', \\\n",
        "                              inferschema='true') \\\n",
        "                .load(\"/content/chen/heart.csv\",header=True);\n",
        "\n",
        "heart_data.show(10)"
      ],
      "execution_count": 153,
      "outputs": [
        {
          "output_type": "stream",
          "text": [
            "+---+---+---+--------+----+---+-------+-------+-----+-------+-----+---+----+------+\n",
            "|age|sex| cp|trestbps|chol|fbs|restecg|thalach|exang|oldpeak|slope| ca|thal|target|\n",
            "+---+---+---+--------+----+---+-------+-------+-----+-------+-----+---+----+------+\n",
            "| 52|  1|  0|     125| 212|  0|      1|    168|    0|    1.0|    2|  2|   3|     0|\n",
            "| 53|  1|  0|     140| 203|  1|      0|    155|    1|    3.1|    0|  0|   3|     0|\n",
            "| 70|  1|  0|     145| 174|  0|      1|    125|    1|    2.6|    0|  0|   3|     0|\n",
            "| 61|  1|  0|     148| 203|  0|      1|    161|    0|    0.0|    2|  1|   3|     0|\n",
            "| 62|  0|  0|     138| 294|  1|      1|    106|    0|    1.9|    1|  3|   2|     0|\n",
            "| 58|  0|  0|     100| 248|  0|      0|    122|    0|    1.0|    1|  0|   2|     1|\n",
            "| 58|  1|  0|     114| 318|  0|      2|    140|    0|    4.4|    0|  3|   1|     0|\n",
            "| 55|  1|  0|     160| 289|  0|      0|    145|    1|    0.8|    1|  1|   3|     0|\n",
            "| 46|  1|  0|     120| 249|  0|      0|    144|    0|    0.8|    2|  0|   3|     0|\n",
            "| 54|  1|  0|     122| 286|  0|      0|    116|    1|    3.2|    1|  2|   2|     0|\n",
            "+---+---+---+--------+----+---+-------+-------+-----+-------+-----+---+----+------+\n",
            "only showing top 10 rows\n",
            "\n"
          ],
          "name": "stdout"
        }
      ]
    },
    {
      "cell_type": "code",
      "metadata": {
        "id": "4x0AFGdgMbbO",
        "colab_type": "code",
        "outputId": "d49010a7-c6f8-4302-c4e3-10cae89fe941",
        "colab": {
          "base_uri": "https://localhost:8080/",
          "height": 306
        }
      },
      "source": [
        "def transData(data):\n",
        "  return data.rdd.map(lambda r: [Vectors.dense(r[:-2]),r[12]]).toDF(['features','label'])\n",
        "\n",
        "transformed = transData(heart_data)\n",
        "trainingData, testData = transformed.randomSplit([0.7, 0.3])\n",
        "\n",
        "transformed.sample(False, 0.1, 123).show(10)\n",
        "\n",
        "heart_data.count(),trainingData.count(),testData.count()"
      ],
      "execution_count": 167,
      "outputs": [
        {
          "output_type": "stream",
          "text": [
            "+--------------------+-----+\n",
            "|            features|label|\n",
            "+--------------------+-----+\n",
            "|[51.0,1.0,0.0,140...|    3|\n",
            "|[50.0,1.0,2.0,129...|    2|\n",
            "|[41.0,1.0,1.0,135...|    1|\n",
            "|[29.0,1.0,1.0,130...|    2|\n",
            "|[37.0,0.0,2.0,120...|    2|\n",
            "|[58.0,1.0,2.0,140...|    2|\n",
            "|[62.0,0.0,0.0,140...|    2|\n",
            "|[43.0,0.0,2.0,122...|    2|\n",
            "|[62.0,1.0,1.0,120...|    3|\n",
            "|[64.0,0.0,0.0,180...|    2|\n",
            "+--------------------+-----+\n",
            "only showing top 10 rows\n",
            "\n"
          ],
          "name": "stdout"
        },
        {
          "output_type": "execute_result",
          "data": {
            "text/plain": [
              "(1025, 712, 313)"
            ]
          },
          "metadata": {
            "tags": []
          },
          "execution_count": 167
        }
      ]
    },
    {
      "cell_type": "code",
      "metadata": {
        "id": "OMyMz8EOS-9f",
        "colab_type": "code",
        "colab": {}
      },
      "source": [
        "labelIndexer = StringIndexer(inputCol=\"label\", outputCol=\"indexedLabel\").fit(transformed)\n",
        "featureIndexer = VectorIndexer(inputCol=\"features\", outputCol=\"indexedFeatures\", maxCategories=4).fit(transformed)\n",
        "labelConverter = IndexToString(inputCol=\"prediction\", outputCol=\"predictedLabel\", labels=labelIndexer.labels)\n",
        "\n",
        "evaluator_lr_ovr = MulticlassClassificationEvaluator(\n",
        "    labelCol=\"label\", predictionCol=\"prediction\", metricName=\"accuracy\")\n",
        "\n",
        "evaluator = MulticlassClassificationEvaluator(\n",
        "    labelCol=\"indexedLabel\", predictionCol=\"prediction\", metricName=\"accuracy\")"
      ],
      "execution_count": 0,
      "outputs": []
    },
    {
      "cell_type": "code",
      "metadata": {
        "id": "zPYzTEtARNv0",
        "colab_type": "code",
        "colab": {}
      },
      "source": [
        "lr = LogisticRegression()\n",
        "\n",
        "model_lr = lr.fit(trainingData)\n",
        "predictions_lr = model_lr.transform(testData)\n",
        "\n",
        "accuracy_lr = evaluator_lr_ovr.evaluate(predictions_lr)"
      ],
      "execution_count": 0,
      "outputs": []
    },
    {
      "cell_type": "code",
      "metadata": {
        "id": "bQEGqmHtLtZY",
        "colab_type": "code",
        "colab": {}
      },
      "source": [
        "ovr = OneVsRest(classifier=lr)\n",
        "\n",
        "model_ovr= ovr.fit(trainingData)\n",
        "predictions_ovr = model_ovr.transform(testData)\n",
        "\n",
        "accuracy_ovr = evaluator_lr_ovr.evaluate(predictions_ovr)"
      ],
      "execution_count": 0,
      "outputs": []
    },
    {
      "cell_type": "code",
      "metadata": {
        "id": "tX7pzuGKRdVz",
        "colab_type": "code",
        "colab": {}
      },
      "source": [
        "dt = DecisionTreeClassifier(labelCol=\"indexedLabel\", featuresCol=\"indexedFeatures\")\n",
        "\n",
        "pipeline_dt = Pipeline(stages=[labelIndexer, featureIndexer, dt])\n",
        "model_dt = pipeline_dt.fit(trainingData)\n",
        "predictions_dt = model_dt.transform(testData)\n",
        "\n",
        "accuracy_dt = evaluator.evaluate(predictions_dt)\n",
        "treeModel = model_dt.stages[2]"
      ],
      "execution_count": 0,
      "outputs": []
    },
    {
      "cell_type": "code",
      "metadata": {
        "id": "faVFjDUFTeVx",
        "colab_type": "code",
        "colab": {}
      },
      "source": [
        "rf = RandomForestClassifier(labelCol=\"indexedLabel\", featuresCol=\"indexedFeatures\", numTrees=30)\n",
        "\n",
        "pipeline_rf = Pipeline(stages=[labelIndexer, featureIndexer, rf, labelConverter])\n",
        "model_rf = pipeline_rf.fit(trainingData)\n",
        "\n",
        "predictions_rf = model_rf.transform(testData)\n",
        "\n",
        "accuracy_rf = evaluator.evaluate(predictions_rf)\n",
        "rfModel = model_rf.stages[2]"
      ],
      "execution_count": 0,
      "outputs": []
    },
    {
      "cell_type": "code",
      "metadata": {
        "id": "Iz5h6syaUA8u",
        "colab_type": "code",
        "colab": {}
      },
      "source": [
        "nb = NaiveBayes(smoothing=1.0, labelCol=\"indexedLabel\", featuresCol=\"indexedFeatures\")\n",
        "\n",
        "pipeline_nb = Pipeline(stages=[labelIndexer, featureIndexer, nb, labelConverter])\n",
        "model_nb = pipeline_nb.fit(trainingData)\n",
        "predictions_nb = model_nb.transform(testData)\n",
        "\n",
        "accuracy_nb = evaluator.evaluate(predictions_nb)"
      ],
      "execution_count": 0,
      "outputs": []
    },
    {
      "cell_type": "code",
      "metadata": {
        "id": "OXqRiuIvcgrc",
        "colab_type": "code",
        "colab": {}
      },
      "source": [
        "layers = [12, 20, 15, 10, 5, 4]\n",
        "\n",
        "mlp = MultilayerPerceptronClassifier(labelCol=\"indexedLabel\", featuresCol=\"indexedFeatures\", maxIter=100, layers=layers, blockSize=128, seed=1234)\n",
        "\n",
        "pipeline_mlp = Pipeline(stages=[labelIndexer, featureIndexer, mlp, labelConverter])\n",
        "model_mlp = pipeline_mlp.fit(trainingData)\n",
        "predictions_mlp = model_mlp.transform(testData)\n",
        "\n",
        "accuracy_mlp = evaluator.evaluate(predictions_mlp)"
      ],
      "execution_count": 0,
      "outputs": []
    },
    {
      "cell_type": "code",
      "metadata": {
        "id": "_QlFO2K_E5T1",
        "colab_type": "code",
        "outputId": "58905934-55a0-4845-b4b8-a76d1589d724",
        "colab": {
          "base_uri": "https://localhost:8080/",
          "height": 238
        }
      },
      "source": [
        "print(\"Test Error of Logistic Regression = %g \\n\" % (1.0 - accuracy_lr))\n",
        "\n",
        "print(\"Test Error of One-Vs-Rest = %g \\n\" % (1.0 - accuracy_ovr))\n",
        "\n",
        "print(\"Test Error of Decision Tree = %g\" % (1.0 - accuracy_dt))\n",
        "\n",
        "print(treeModel, \"\\n\")\n",
        "\n",
        "print(\"Test Error of Random Forest = %g\" % (1.0 - accuracy_rf))\n",
        "print(rfModel, \"\\n\") \n",
        "\n",
        "print(\"Test Error of Naive Bayes = %g \\n\" % (1.0 - accuracy_nb))\n",
        "\n",
        "print(\"Test Error of Multilayer-Perceptron = %g\" % (1.0 - accuracy_mlp))"
      ],
      "execution_count": 176,
      "outputs": [
        {
          "output_type": "stream",
          "text": [
            "Test Error of Logistic Regression = 0.319489 \n",
            "\n",
            "Test Error of One-Vs-Rest = 0.322684 \n",
            "\n",
            "Test Error of Decision Tree = 0.27476\n",
            "DecisionTreeClassificationModel (uid=DecisionTreeClassifier_45a8df37c755) of depth 5 with 47 nodes \n",
            "\n",
            "Test Error of Random Forest = 0.220447\n",
            "RandomForestClassificationModel (uid=RandomForestClassifier_83364bd2b7e9) with 30 trees \n",
            "\n",
            "Test Error of Naive Bayes = 0.408946 \n",
            "\n",
            "Test Error of Multilayer-Perceptron = 0.42492\n"
          ],
          "name": "stdout"
        }
      ]
    },
    {
      "cell_type": "code",
      "metadata": {
        "id": "hEogYHGFcZTr",
        "colab_type": "code",
        "outputId": "f7132772-51bc-4bc7-98b4-e802c12ffc2d",
        "colab": {
          "base_uri": "https://localhost:8080/",
          "height": 359
        }
      },
      "source": [
        "methods = [\"Logistic Regression\", \"Decision Tree\", \"Random Forest\", \"Naive Bayes\", \"Multilayers-Perceptrons\", \"One-Vs-Rest\"]\n",
        "accuracy = [float(\"{0:.3f}\".format(accuracy_lr*100)), float(\"{0:.3f}\".format(accuracy_dt*100)), float(\"{0:.3f}\".format(accuracy_rf*100)), \n",
        "            float(\"{0:.3f}\".format(accuracy_nb*100)), float(\"{0:.3f}\".format(accuracy_mlp*100)), float(\"{0:.3f}\".format(accuracy_ovr*100))]\n",
        "\n",
        "colors = [\"red\", \"orange\", \"yellow\", \"green\", \"blue\", \"indigo\"]\n",
        "sns.set_style(\"whitegrid\")\n",
        "plt.figure(figsize=(16,5))\n",
        "plt.yticks(np.arange(0,100,10))  \n",
        "print(\"Accuracy : \", accuracy[0], \"%        \", accuracy[1], \"%          \", accuracy[2], \"%          \", accuracy[3], \"%        \",\n",
        "     accuracy[4], \"%         \", accuracy[5], \"%       \")\n",
        "plt.ylabel(\"Accuracy %\")\n",
        "plt.xlabel(\"Classification Algorithms\", fontsize=18)\n",
        "sns.barplot(x=methods, y=accuracy, palette=colors)\n",
        "plt.show()"
      ],
      "execution_count": 178,
      "outputs": [
        {
          "output_type": "stream",
          "text": [
            "Accuracy :  68.051 %         72.524 %           77.955 %           59.105 %         57.508 %          67.732 %       \n"
          ],
          "name": "stdout"
        },
        {
          "output_type": "display_data",
          "data": {
            "text/plain": [
              "<Figure size 1152x360 with 1 Axes>"
            ],
            "image/png": "[encoded data removed]"
          },
          "metadata": {
            "tags": []
          }
        }
      ]
    },
    {
      "cell_type": "code",
      "metadata": {
        "colab_type": "code",
        "outputId": "34573ec3-032f-4b54-ce2f-ed6537994d7b",
        "id": "EqUnKnen6H6a",
        "colab": {
          "base_uri": "https://localhost:8080/",
          "height": 641
        }
      },
      "source": [
        "from sklearn.metrics import confusion_matrix\n",
        "\n",
        "y_true_lr = predictions_lr.select(\"label\").toPandas()\n",
        "y_pred_lr = predictions_lr.select(\"prediction\").toPandas()\n",
        "c_m_lr = confusion_matrix(y_true_lr, y_pred_lr)\n",
        "\n",
        "\n",
        "y_true_nb = predictions_nb.select(\"indexedLabel\").toPandas()\n",
        "y_pred_nb = predictions_nb.select(\"prediction\").toPandas()\n",
        "c_m_nb = confusion_matrix(y_true_nb, y_pred_nb)\n",
        "\n",
        "\n",
        "y_true_mlp = predictions_mlp.select(\"indexedLabel\").toPandas()\n",
        "y_pred_mlp = predictions_mlp.select(\"prediction\").toPandas()\n",
        "c_m_mlp = confusion_matrix(y_true_mlp, y_pred_mlp)\n",
        "\n",
        "\n",
        "y_true_dt = predictions_dt.select(\"indexedLabel\").toPandas()\n",
        "y_pred_dt = predictions_dt.select(\"prediction\").toPandas()\n",
        "c_m_dt = confusion_matrix(y_true_dt, y_pred_dt)\n",
        "\n",
        "\n",
        "y_true_rf = predictions_rf.select(\"indexedLabel\").toPandas()\n",
        "y_pred_rf = predictions_rf.select(\"prediction\").toPandas()\n",
        "c_m_rf = confusion_matrix(y_true_rf, y_pred_rf)\n",
        "\n",
        "'''\n",
        "y_true_gbt = predictions_gbt.select(\"indexedLabel\").toPandas()\n",
        "y_pred_gbt = predictions_gbt.select(\"prediction\").toPandas()\n",
        "c_m_gbt = confusion_matrix(y_true_gbt, y_pred_gbt)\n",
        "\n",
        "'''\n",
        "y_true_ovr = predictions_ovr.select(\"label\").toPandas()\n",
        "y_pred_ovr = predictions_ovr.select(\"prediction\").toPandas()\n",
        "c_m_ovr = confusion_matrix(y_true_ovr, y_pred_ovr)\n",
        "\n",
        "plt.figure(figsize=(16,14))\n",
        "plt.suptitle(\"Confusion Matrices of Classification Algorithms\", fontsize = 20)\n",
        "\n",
        "plt.subplot(3,3,1)\n",
        "plt.title(\"Logistic Regression\", fontsize = 16)\n",
        "sns.heatmap(c_m_lr,annot=True,cmap=\"Greens\",fmt=\"d\",cbar=False)\n",
        "\n",
        "\n",
        "plt.subplot(3,3,2)\n",
        "plt.title(\"One-Vs-Rest\", fontsize = 16)\n",
        "sns.heatmap(c_m_ovr,annot=True,cmap=\"Greens\",fmt=\"d\",cbar=False)\n",
        "\n",
        "plt.subplot(3,3,3)\n",
        "plt.title(\"Naive Bayes\", fontsize = 16)\n",
        "sns.heatmap(c_m_nb,annot=True,cmap=\"Oranges\",fmt=\"d\",cbar=False)\n",
        "\n",
        "plt.subplot(3,3,4)\n",
        "plt.title(\"Decision Tree\", fontsize = 16)\n",
        "sns.heatmap(c_m_dt,annot=True,cmap=\"Blues\",fmt=\"d\",cbar=False)\n",
        "\n",
        "plt.subplot(3,3,5)\n",
        "plt.title(\"Random Forest\", fontsize = 16)\n",
        "sns.heatmap(c_m_rf,annot=True,cmap=\"Blues\",fmt=\"d\",cbar=False)\n",
        "\n",
        "'''\n",
        "plt.subplot(3,3,6)\n",
        "plt.title(\"Gradient-Boosted\", fontsize = 16)\n",
        "sns.heatmap(c_m_ovr,annot=True,cmap=\"Blues\",fmt=\"d\",cbar=False)\n",
        "classes = ['No Heart Disease', 'Heart Disease']\n",
        "tick_marks = np.arange(len(classes))\n",
        "plt.xticks(tick_marks, classes, horizontalalignment='left')\n",
        "plt.yticks(tick_marks, classes)\n",
        "'''\n",
        "plt.subplot(3,3,6)\n",
        "plt.title(\"Multilayers-Perceptron\", fontsize = 16)\n",
        "sns.heatmap(c_m_mlp,annot=True,cmap=\"Reds\",fmt=\"d\",cbar=False)\n",
        "\n",
        "plt.show()"
      ],
      "execution_count": 179,
      "outputs": [
        {
          "output_type": "display_data",
          "data": {
            "text/plain": [
              "<Figure size 1152x1008 with 6 Axes>"
            ],
            "image/png": "[encoded data removed]"
          },
          "metadata": {
            "tags": []
          }
        }
      ]
    },
    {
      "cell_type": "code",
      "metadata": {
        "id": "sKau8hlsKRIE",
        "colab_type": "code",
        "colab": {}
      },
      "source": [
        ""
      ],
      "execution_count": 0,
      "outputs": []
    }
  ]
}