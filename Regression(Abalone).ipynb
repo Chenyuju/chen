{
  "nbformat": 4,
  "nbformat_minor": 0,
  "metadata": {
    "colab": {
      "name": "Regression(Abalone).ipynb",
      "provenance": [],
      "collapsed_sections": [],
      "mount_file_id": "1Wl2MDEVX32vBgVPv63UUf7R2KyLNvd3Q",
      "authorship_tag": "ABX9TyPl7DVWYLnp3WOKO1DIOqP5",
      "include_colab_link": true
    },
    "kernelspec": {
      "name": "python3",
      "display_name": "Python 3"
    }
  },
  "cells": [
    {
      "cell_type": "markdown",
      "metadata": {
        "id": "view-in-github",
        "colab_type": "text"
      },
      "source": [
        "<a href=\"https://colab.research.google.com/github/Chenyuju/chen/blob/master/Regression(Abalone).ipynb\" target=\"_parent\"><img src=\"https://colab.research.google.com/assets/colab-badge.svg\" alt=\"Open In Colab\"/></a>"
      ]
    },
    {
      "cell_type": "code",
      "metadata": {
        "id": "LCuumhtm2sXa",
        "colab_type": "code",
        "colab": {
          "base_uri": "https://localhost:8080/",
          "height": 34
        },
        "outputId": "07f65e83-4c1a-4dde-fa04-b1ec4c33cc11"
      },
      "source": [
        "%reset"
      ],
      "execution_count": 360,
      "outputs": [
        {
          "output_type": "stream",
          "text": [
            "Once deleted, variables cannot be recovered. Proceed (y/[n])? y\n"
          ],
          "name": "stdout"
        }
      ]
    },
    {
      "cell_type": "code",
      "metadata": {
        "id": "IomuMggE9V9g",
        "colab_type": "code",
        "colab": {}
      },
      "source": [
        "!apt-get install openjdk-8-jdk-headless -qq > /dev/null\n",
        "!wget -q https://www-us.apache.org/dist/spark/spark-2.4.5/spark-2.4.5-bin-hadoop2.7.tgz\n",
        "!tar -xf spark-2.4.5-bin-hadoop2.7.tgz\n",
        "!pip install -q findspark"
      ],
      "execution_count": 0,
      "outputs": []
    },
    {
      "cell_type": "code",
      "metadata": {
        "id": "lCyv6lnaQjRg",
        "colab_type": "code",
        "outputId": "b8f2fa5b-9ffb-47be-8c3c-fb050234d779",
        "colab": {
          "base_uri": "https://localhost:8080/",
          "height": 34
        }
      },
      "source": [
        "from google.colab import drive\n",
        "drive.mount('/content/drive')"
      ],
      "execution_count": 444,
      "outputs": [
        {
          "output_type": "stream",
          "text": [
            "Drive already mounted at /content/drive; to attempt to forcibly remount, call drive.mount(\"/content/drive\", force_remount=True).\n"
          ],
          "name": "stdout"
        }
      ]
    },
    {
      "cell_type": "code",
      "metadata": {
        "id": "-Rav9HPXQtmu",
        "colab_type": "code",
        "colab": {}
      },
      "source": [
        "import os\n",
        "os.environ[\"JAVA_HOME\"] = \"/usr/lib/jvm/java-8-openjdk-amd64\"\n",
        "os.environ[\"SPARK_HOME\"] = \"/content/spark-2.4.5-bin-hadoop2.7\""
      ],
      "execution_count": 0,
      "outputs": []
    },
    {
      "cell_type": "code",
      "metadata": {
        "id": "ijxd9GXCQy5M",
        "colab_type": "code",
        "colab": {}
      },
      "source": [
        "import findspark\n",
        "findspark.init(\"spark-2.4.5-bin-hadoop2.7\")\n",
        "import pyspark"
      ],
      "execution_count": 0,
      "outputs": []
    },
    {
      "cell_type": "code",
      "metadata": {
        "id": "RpNGMn6Y90sX",
        "colab_type": "code",
        "colab": {}
      },
      "source": [
        "from pyspark.sql import SparkSession\n",
        "    \n",
        "spark = SparkSession.builder.master('local[*]').getOrCreate()"
      ],
      "execution_count": 0,
      "outputs": []
    },
    {
      "cell_type": "code",
      "metadata": {
        "id": "c7zrX1OV8o8I",
        "colab_type": "code",
        "colab": {}
      },
      "source": [
        "from pyspark.ml.linalg import Vectors\n",
        "from pyspark.ml import Pipeline\n",
        "from pyspark.ml.feature import IndexToString,StringIndexer, VectorIndexer\n",
        "from pyspark.ml.tuning import CrossValidator, ParamGridBuilder\n",
        "from pyspark.ml.evaluation import RegressionEvaluator"
      ],
      "execution_count": 0,
      "outputs": []
    },
    {
      "cell_type": "code",
      "metadata": {
        "id": "oPh46Oqy9SpS",
        "colab_type": "code",
        "colab": {}
      },
      "source": [
        "from pyspark.ml.regression import DecisionTreeRegressor, RandomForestRegressor, GBTRegressor\n",
        "from pyspark.ml.regression import IsotonicRegression\n",
        "\n",
        "import sklearn.metrics\n",
        "import matplotlib.pyplot as plt \n",
        "import numpy as np  "
      ],
      "execution_count": 0,
      "outputs": []
    },
    {
      "cell_type": "code",
      "metadata": {
        "id": "jlihrr_XSC_a",
        "colab_type": "code",
        "colab": {}
      },
      "source": [
        "import findspark\n",
        "import pandas as pd\n",
        "import seaborn as sns\n",
        "import pandas as pd\n",
        "import numpy as np\n",
        "import matplotlib.pyplot as plt\n",
        "from pyspark.sql import SparkSession"
      ],
      "execution_count": 0,
      "outputs": []
    },
    {
      "cell_type": "code",
      "metadata": {
        "id": "g5m4i8S7SM75",
        "colab_type": "code",
        "colab": {}
      },
      "source": [
        "evaluator = RegressionEvaluator(\n",
        "    labelCol=\"label\", predictionCol=\"prediction\", metricName=\"rmse\")"
      ],
      "execution_count": 0,
      "outputs": []
    },
    {
      "cell_type": "code",
      "metadata": {
        "id": "LMbnQkG_VRoi",
        "colab_type": "code",
        "colab": {}
      },
      "source": [
        "#~# Advertising Dataset #~# #~# Advertising Dataset #~# #~# Advertising Dataset #~# #~# Advertising Dataset #~# #~# Advertising Dataset #~#"
      ],
      "execution_count": 0,
      "outputs": []
    },
    {
      "cell_type": "code",
      "metadata": {
        "id": "7P5dUkzgSEzx",
        "colab_type": "code",
        "outputId": "739d1c3f-0d3b-4416-cd67-cb1f53c6ed2a",
        "colab": {
          "base_uri": "https://localhost:8080/",
          "height": 610
        }
      },
      "source": [
        "#~# Advertising Dataset #~#\n",
        "\n",
        "Advertising_csv = spark.read.format('com.databricks.spark.csv').\\\n",
        "                              options(header='true', \\\n",
        "                              inferschema='true') \\\n",
        "                .load(\"/content/sample_data/Advertising.csv\",header=True);\n",
        "\n",
        "Advertising_csv.show(10)\n",
        "\n",
        "from pyspark.ml.stat import Correlation\n",
        "\n",
        "data_ad = pd.read_csv('/content/sample_data/Advertising.csv')\n",
        "plt.figure(figsize=(5,5)) \n",
        "sns.heatmap(data_ad.corr())"
      ],
      "execution_count": 453,
      "outputs": [
        {
          "output_type": "stream",
          "text": [
            "+-----+-----+---------+-----+\n",
            "|   TV|Radio|Newspaper|Sales|\n",
            "+-----+-----+---------+-----+\n",
            "|230.1| 37.8|     69.2| 22.1|\n",
            "| 44.5| 39.3|     45.1| 10.4|\n",
            "| 17.2| 45.9|     69.3|  9.3|\n",
            "|151.5| 41.3|     58.5| 18.5|\n",
            "|180.8| 10.8|     58.4| 12.9|\n",
            "|  8.7| 48.9|     75.0|  7.2|\n",
            "| 57.5| 32.8|     23.5| 11.8|\n",
            "|120.2| 19.6|     11.6| 13.2|\n",
            "|  8.6|  2.1|      1.0|  4.8|\n",
            "|199.8|  2.6|     21.2| 10.6|\n",
            "+-----+-----+---------+-----+\n",
            "only showing top 10 rows\n",
            "\n"
          ],
          "name": "stdout"
        },
        {
          "output_type": "execute_result",
          "data": {
            "text/plain": [
              "<matplotlib.axes._subplots.AxesSubplot at 0x7ff4a609bcc0>"
            ]
          },
          "metadata": {
            "tags": []
          },
          "execution_count": 453
        },
        {
          "output_type": "display_data",
          "data": {
            "image/png": "[encoded data removed]",
            "text/plain": [
              "<Figure size 360x360 with 2 Axes>"
            ]
          },
          "metadata": {
            "tags": []
          }
        }
      ]
    },
    {
      "cell_type": "code",
      "metadata": {
        "id": "jkOX_nPpEuxW",
        "colab_type": "code",
        "colab": {
          "base_uri": "https://localhost:8080/",
          "height": 84
        },
        "outputId": "1175863f-2c16-483e-d05e-f9e58f9ba83e"
      },
      "source": [
        "#~# Advertising Dataset #~#\n",
        "\n",
        "import six\n",
        "for i in Advertising_csv.columns:\n",
        "    if not( isinstance(Advertising_csv.select(i).take(1)[0][0], six.string_types)):\n",
        "        print( \"Correlation to Sales for \", i, \"\\t\", Advertising_csv.stat.corr('Sales',i))"
      ],
      "execution_count": 454,
      "outputs": [
        {
          "output_type": "stream",
          "text": [
            "Correlation to Sales for  TV \t 0.7822244248616067\n",
            "Correlation to Sales for  Radio \t 0.5762225745710555\n",
            "Correlation to Sales for  Newspaper \t 0.22829902637616545\n",
            "Correlation to Sales for  Sales \t 1.0\n"
          ],
          "name": "stdout"
        }
      ]
    },
    {
      "cell_type": "code",
      "metadata": {
        "id": "VFbjb_gKS7-n",
        "colab_type": "code",
        "colab": {
          "base_uri": "https://localhost:8080/",
          "height": 302
        },
        "outputId": "40be199b-6be0-4969-e7c5-d7827b1b185b"
      },
      "source": [
        "#~# Advertising Dataset #~#\n",
        "\n",
        "def transData_ad(data):\n",
        "  return data.rdd.map(lambda r: [Vectors.dense(r[:-1]),r[-1]]).toDF(['features','label'])   \n",
        "\n",
        "transformed_ad = transData_ad(Advertising_csv)\n",
        "\n",
        "trainingData_ad, testData_ad = transformed_ad.randomSplit([0.7, 0.3], seed = 100)\n",
        "#transformed.sample(False, 0.1, 123).show(10)\n",
        "\n",
        "transformed_ad.show(10)\n",
        "Advertising_csv.count(),trainingData_ad.count(),testData_ad.count()"
      ],
      "execution_count": 455,
      "outputs": [
        {
          "output_type": "stream",
          "text": [
            "+-----------------+-----+\n",
            "|         features|label|\n",
            "+-----------------+-----+\n",
            "|[230.1,37.8,69.2]| 22.1|\n",
            "| [44.5,39.3,45.1]| 10.4|\n",
            "| [17.2,45.9,69.3]|  9.3|\n",
            "|[151.5,41.3,58.5]| 18.5|\n",
            "|[180.8,10.8,58.4]| 12.9|\n",
            "|  [8.7,48.9,75.0]|  7.2|\n",
            "| [57.5,32.8,23.5]| 11.8|\n",
            "|[120.2,19.6,11.6]| 13.2|\n",
            "|    [8.6,2.1,1.0]|  4.8|\n",
            "| [199.8,2.6,21.2]| 10.6|\n",
            "+-----------------+-----+\n",
            "only showing top 10 rows\n",
            "\n"
          ],
          "name": "stdout"
        },
        {
          "output_type": "execute_result",
          "data": {
            "text/plain": [
              "(200, 141, 59)"
            ]
          },
          "metadata": {
            "tags": []
          },
          "execution_count": 455
        }
      ]
    },
    {
      "cell_type": "code",
      "metadata": {
        "id": "LFTqPBStZGVZ",
        "colab_type": "code",
        "colab": {}
      },
      "source": [
        "#~# Advertising Dataset #~#\n",
        "\n",
        "labelIndexer = StringIndexer(inputCol=\"label\", outputCol=\"indexedLabel\").fit(transformed_ad)\n",
        "featureIndexer = VectorIndexer(inputCol=\"features\", outputCol=\"indexedFeatures\", maxCategories=4).fit(transformed_ad)\n",
        "labelConverter = IndexToString(inputCol=\"prediction\", outputCol=\"predictedLabel\", labels=labelIndexer.labels)\n",
        "\n",
        "evaluator = RegressionEvaluator(\n",
        "    labelCol=\"label\", predictionCol=\"prediction\", metricName=\"rmse\")"
      ],
      "execution_count": 0,
      "outputs": []
    },
    {
      "cell_type": "code",
      "metadata": {
        "id": "0r8Bt92_TnCM",
        "colab_type": "code",
        "colab": {
          "base_uri": "https://localhost:8080/",
          "height": 921
        },
        "outputId": "643f5591-a99b-4887-b5d5-902cbf277607"
      },
      "source": [
        "#~# Advertising Dataset #~#\n",
        "\n",
        "dt = DecisionTreeRegressor(featuresCol=\"indexedFeatures\", impurity='variance', maxDepth=8)\n",
        "\n",
        "pipeline_dt = Pipeline(stages=[featureIndexer, dt])\n",
        "model_dt = pipeline_dt.fit(trainingData_ad)\n",
        "predictions_dt = model_dt.transform(testData_ad)\n",
        "\n",
        "rmse_dt = evaluator.evaluate(predictions_dt)\n",
        "\n",
        "print(\"Decision Tree (RMSE) = %g\" % rmse_dt)\n",
        "\n",
        "treeModel_dt = model_dt.stages[1]\n",
        "print(treeModel_dt)\n",
        "predictions_dt.select(\"label\", \"prediction\").sample(False, 0.5, 123).show(10)\n",
        "\n",
        "y_true = predictions_dt.select(\"label\").toPandas()\n",
        "y_pred = predictions_dt.select(\"prediction\").toPandas()\n",
        "\n",
        "plt.scatter(y_true, y_pred, color = 'red', s=5)\n",
        "\n",
        "plt.plot(testData_ad['label'], predictions_dt,'-', color=sns.xkcd_rgb['carmine'])\n",
        "\n",
        "plt.title(\"Decision Tree_Advertising\")\n",
        "plt.xlabel(\"Actual Values\")\n",
        "plt.ylabel(\"Predicted Values\")"
      ],
      "execution_count": 457,
      "outputs": [
        {
          "output_type": "stream",
          "text": [
            "Decision Tree (RMSE) = 0.937179\n",
            "DecisionTreeRegressionModel (uid=DecisionTreeRegressor_3396b8d62420) of depth 8 with 231 nodes\n",
            "+-----+------------------+\n",
            "|label|        prediction|\n",
            "+-----+------------------+\n",
            "|  6.7|               6.6|\n",
            "|  7.6|               7.0|\n",
            "|  9.2|               8.8|\n",
            "|  9.5|               9.6|\n",
            "| 10.1|              10.1|\n",
            "| 11.6|10.900000000000002|\n",
            "|  9.7|               9.7|\n",
            "|  8.6|               9.3|\n",
            "| 14.6|14.700000000000003|\n",
            "| 13.3|12.899999999999999|\n",
            "+-----+------------------+\n",
            "only showing top 10 rows\n",
            "\n"
          ],
          "name": "stdout"
        },
        {
          "output_type": "error",
          "ename": "TypeError",
          "evalue": "ignored",
          "traceback": [
            "\u001b[0;31m---------------------------------------------------------------------------\u001b[0m",
            "\u001b[0;31mTypeError\u001b[0m                                 Traceback (most recent call last)",
            "\u001b[0;32m<ipython-input-457-d09cbef8e8bd>\u001b[0m in \u001b[0;36m<module>\u001b[0;34m()\u001b[0m\n\u001b[1;32m     19\u001b[0m \u001b[0mplt\u001b[0m\u001b[0;34m.\u001b[0m\u001b[0mscatter\u001b[0m\u001b[0;34m(\u001b[0m\u001b[0my_true\u001b[0m\u001b[0;34m,\u001b[0m \u001b[0my_pred\u001b[0m\u001b[0;34m,\u001b[0m \u001b[0mcolor\u001b[0m \u001b[0;34m=\u001b[0m \u001b[0;34m'red'\u001b[0m\u001b[0;34m,\u001b[0m \u001b[0ms\u001b[0m\u001b[0;34m=\u001b[0m\u001b[0;36m5\u001b[0m\u001b[0;34m)\u001b[0m\u001b[0;34m\u001b[0m\u001b[0;34m\u001b[0m\u001b[0m\n\u001b[1;32m     20\u001b[0m \u001b[0;34m\u001b[0m\u001b[0m\n\u001b[0;32m---> 21\u001b[0;31m \u001b[0mplt\u001b[0m\u001b[0;34m.\u001b[0m\u001b[0mplot\u001b[0m\u001b[0;34m(\u001b[0m\u001b[0mtestData_ad\u001b[0m\u001b[0;34m[\u001b[0m\u001b[0;34m'label'\u001b[0m\u001b[0;34m]\u001b[0m\u001b[0;34m,\u001b[0m \u001b[0mpredictions_dt\u001b[0m\u001b[0;34m,\u001b[0m\u001b[0;34m'-'\u001b[0m\u001b[0;34m,\u001b[0m \u001b[0mcolor\u001b[0m\u001b[0;34m=\u001b[0m\u001b[0msns\u001b[0m\u001b[0;34m.\u001b[0m\u001b[0mxkcd_rgb\u001b[0m\u001b[0;34m[\u001b[0m\u001b[0;34m'carmine'\u001b[0m\u001b[0;34m]\u001b[0m\u001b[0;34m)\u001b[0m\u001b[0;34m\u001b[0m\u001b[0;34m\u001b[0m\u001b[0m\n\u001b[0m\u001b[1;32m     22\u001b[0m \u001b[0;34m\u001b[0m\u001b[0m\n\u001b[1;32m     23\u001b[0m \u001b[0mplt\u001b[0m\u001b[0;34m.\u001b[0m\u001b[0mtitle\u001b[0m\u001b[0;34m(\u001b[0m\u001b[0;34m\"Decision Tree_Advertising\"\u001b[0m\u001b[0;34m)\u001b[0m\u001b[0;34m\u001b[0m\u001b[0;34m\u001b[0m\u001b[0m\n",
            "\u001b[0;32m/usr/local/lib/python3.6/dist-packages/matplotlib/pyplot.py\u001b[0m in \u001b[0;36mplot\u001b[0;34m(scalex, scaley, data, *args, **kwargs)\u001b[0m\n\u001b[1;32m   2761\u001b[0m     return gca().plot(\n\u001b[1;32m   2762\u001b[0m         *args, scalex=scalex, scaley=scaley, **({\"data\": data} if data\n\u001b[0;32m-> 2763\u001b[0;31m         is not None else {}), **kwargs)\n\u001b[0m\u001b[1;32m   2764\u001b[0m \u001b[0;34m\u001b[0m\u001b[0m\n\u001b[1;32m   2765\u001b[0m \u001b[0;34m\u001b[0m\u001b[0m\n",
            "\u001b[0;32m/usr/local/lib/python3.6/dist-packages/matplotlib/axes/_axes.py\u001b[0m in \u001b[0;36mplot\u001b[0;34m(self, scalex, scaley, data, *args, **kwargs)\u001b[0m\n\u001b[1;32m   1644\u001b[0m         \"\"\"\n\u001b[1;32m   1645\u001b[0m         \u001b[0mkwargs\u001b[0m \u001b[0;34m=\u001b[0m \u001b[0mcbook\u001b[0m\u001b[0;34m.\u001b[0m\u001b[0mnormalize_kwargs\u001b[0m\u001b[0;34m(\u001b[0m\u001b[0mkwargs\u001b[0m\u001b[0;34m,\u001b[0m \u001b[0mmlines\u001b[0m\u001b[0;34m.\u001b[0m\u001b[0mLine2D\u001b[0m\u001b[0;34m)\u001b[0m\u001b[0;34m\u001b[0m\u001b[0;34m\u001b[0m\u001b[0m\n\u001b[0;32m-> 1646\u001b[0;31m         \u001b[0mlines\u001b[0m \u001b[0;34m=\u001b[0m \u001b[0;34m[\u001b[0m\u001b[0;34m*\u001b[0m\u001b[0mself\u001b[0m\u001b[0;34m.\u001b[0m\u001b[0m_get_lines\u001b[0m\u001b[0;34m(\u001b[0m\u001b[0;34m*\u001b[0m\u001b[0margs\u001b[0m\u001b[0;34m,\u001b[0m \u001b[0mdata\u001b[0m\u001b[0;34m=\u001b[0m\u001b[0mdata\u001b[0m\u001b[0;34m,\u001b[0m \u001b[0;34m**\u001b[0m\u001b[0mkwargs\u001b[0m\u001b[0;34m)\u001b[0m\u001b[0;34m]\u001b[0m\u001b[0;34m\u001b[0m\u001b[0;34m\u001b[0m\u001b[0m\n\u001b[0m\u001b[1;32m   1647\u001b[0m         \u001b[0;32mfor\u001b[0m \u001b[0mline\u001b[0m \u001b[0;32min\u001b[0m \u001b[0mlines\u001b[0m\u001b[0;34m:\u001b[0m\u001b[0;34m\u001b[0m\u001b[0;34m\u001b[0m\u001b[0m\n\u001b[1;32m   1648\u001b[0m             \u001b[0mself\u001b[0m\u001b[0;34m.\u001b[0m\u001b[0madd_line\u001b[0m\u001b[0;34m(\u001b[0m\u001b[0mline\u001b[0m\u001b[0;34m)\u001b[0m\u001b[0;34m\u001b[0m\u001b[0;34m\u001b[0m\u001b[0m\n",
            "\u001b[0;32m/usr/local/lib/python3.6/dist-packages/matplotlib/axes/_base.py\u001b[0m in \u001b[0;36m__call__\u001b[0;34m(self, *args, **kwargs)\u001b[0m\n\u001b[1;32m    214\u001b[0m                 \u001b[0mthis\u001b[0m \u001b[0;34m+=\u001b[0m \u001b[0margs\u001b[0m\u001b[0;34m[\u001b[0m\u001b[0;36m0\u001b[0m\u001b[0;34m]\u001b[0m\u001b[0;34m,\u001b[0m\u001b[0;34m\u001b[0m\u001b[0;34m\u001b[0m\u001b[0m\n\u001b[1;32m    215\u001b[0m                 \u001b[0margs\u001b[0m \u001b[0;34m=\u001b[0m \u001b[0margs\u001b[0m\u001b[0;34m[\u001b[0m\u001b[0;36m1\u001b[0m\u001b[0;34m:\u001b[0m\u001b[0;34m]\u001b[0m\u001b[0;34m\u001b[0m\u001b[0;34m\u001b[0m\u001b[0m\n\u001b[0;32m--> 216\u001b[0;31m             \u001b[0;32myield\u001b[0m \u001b[0;32mfrom\u001b[0m \u001b[0mself\u001b[0m\u001b[0;34m.\u001b[0m\u001b[0m_plot_args\u001b[0m\u001b[0;34m(\u001b[0m\u001b[0mthis\u001b[0m\u001b[0;34m,\u001b[0m \u001b[0mkwargs\u001b[0m\u001b[0;34m)\u001b[0m\u001b[0;34m\u001b[0m\u001b[0;34m\u001b[0m\u001b[0m\n\u001b[0m\u001b[1;32m    217\u001b[0m \u001b[0;34m\u001b[0m\u001b[0m\n\u001b[1;32m    218\u001b[0m     \u001b[0;32mdef\u001b[0m \u001b[0mget_next_color\u001b[0m\u001b[0;34m(\u001b[0m\u001b[0mself\u001b[0m\u001b[0;34m)\u001b[0m\u001b[0;34m:\u001b[0m\u001b[0;34m\u001b[0m\u001b[0;34m\u001b[0m\u001b[0m\n",
            "\u001b[0;32m/usr/local/lib/python3.6/dist-packages/matplotlib/axes/_base.py\u001b[0m in \u001b[0;36m_plot_args\u001b[0;34m(self, tup, kwargs)\u001b[0m\n\u001b[1;32m    329\u001b[0m \u001b[0;34m\u001b[0m\u001b[0m\n\u001b[1;32m    330\u001b[0m         \u001b[0;32mif\u001b[0m \u001b[0mlen\u001b[0m\u001b[0;34m(\u001b[0m\u001b[0mtup\u001b[0m\u001b[0;34m)\u001b[0m \u001b[0;34m==\u001b[0m \u001b[0;36m2\u001b[0m\u001b[0;34m:\u001b[0m\u001b[0;34m\u001b[0m\u001b[0;34m\u001b[0m\u001b[0m\n\u001b[0;32m--> 331\u001b[0;31m             \u001b[0mx\u001b[0m \u001b[0;34m=\u001b[0m \u001b[0m_check_1d\u001b[0m\u001b[0;34m(\u001b[0m\u001b[0mtup\u001b[0m\u001b[0;34m[\u001b[0m\u001b[0;36m0\u001b[0m\u001b[0;34m]\u001b[0m\u001b[0;34m)\u001b[0m\u001b[0;34m\u001b[0m\u001b[0;34m\u001b[0m\u001b[0m\n\u001b[0m\u001b[1;32m    332\u001b[0m             \u001b[0my\u001b[0m \u001b[0;34m=\u001b[0m \u001b[0m_check_1d\u001b[0m\u001b[0;34m(\u001b[0m\u001b[0mtup\u001b[0m\u001b[0;34m[\u001b[0m\u001b[0;34m-\u001b[0m\u001b[0;36m1\u001b[0m\u001b[0;34m]\u001b[0m\u001b[0;34m)\u001b[0m\u001b[0;34m\u001b[0m\u001b[0;34m\u001b[0m\u001b[0m\n\u001b[1;32m    333\u001b[0m         \u001b[0;32melse\u001b[0m\u001b[0;34m:\u001b[0m\u001b[0;34m\u001b[0m\u001b[0;34m\u001b[0m\u001b[0m\n",
            "\u001b[0;32m/usr/local/lib/python3.6/dist-packages/matplotlib/cbook/__init__.py\u001b[0m in \u001b[0;36m_check_1d\u001b[0;34m(x)\u001b[0m\n\u001b[1;32m   1323\u001b[0m     \u001b[0mdimension\u001b[0m\u001b[0;34m;\u001b[0m \u001b[0mleaves\u001b[0m \u001b[0meverything\u001b[0m \u001b[0;32melse\u001b[0m \u001b[0muntouched\u001b[0m\u001b[0;34m.\u001b[0m\u001b[0;34m\u001b[0m\u001b[0;34m\u001b[0m\u001b[0m\n\u001b[1;32m   1324\u001b[0m     '''\n\u001b[0;32m-> 1325\u001b[0;31m     \u001b[0;32mif\u001b[0m \u001b[0;32mnot\u001b[0m \u001b[0mhasattr\u001b[0m\u001b[0;34m(\u001b[0m\u001b[0mx\u001b[0m\u001b[0;34m,\u001b[0m \u001b[0;34m'shape'\u001b[0m\u001b[0;34m)\u001b[0m \u001b[0;32mor\u001b[0m \u001b[0mlen\u001b[0m\u001b[0;34m(\u001b[0m\u001b[0mx\u001b[0m\u001b[0;34m.\u001b[0m\u001b[0mshape\u001b[0m\u001b[0;34m)\u001b[0m \u001b[0;34m<\u001b[0m \u001b[0;36m1\u001b[0m\u001b[0;34m:\u001b[0m\u001b[0;34m\u001b[0m\u001b[0;34m\u001b[0m\u001b[0m\n\u001b[0m\u001b[1;32m   1326\u001b[0m         \u001b[0;32mreturn\u001b[0m \u001b[0mnp\u001b[0m\u001b[0;34m.\u001b[0m\u001b[0matleast_1d\u001b[0m\u001b[0;34m(\u001b[0m\u001b[0mx\u001b[0m\u001b[0;34m)\u001b[0m\u001b[0;34m\u001b[0m\u001b[0;34m\u001b[0m\u001b[0m\n\u001b[1;32m   1327\u001b[0m     \u001b[0;32melse\u001b[0m\u001b[0;34m:\u001b[0m\u001b[0;34m\u001b[0m\u001b[0;34m\u001b[0m\u001b[0m\n",
            "\u001b[0;31mTypeError\u001b[0m: object of type 'Column' has no len()"
          ]
        },
        {
          "output_type": "display_data",
          "data": {
            "image/png": "[encoded data removed]",
            "text/plain": [
              "<Figure size 432x288 with 1 Axes>"
            ]
          },
          "metadata": {
            "tags": []
          }
        }
      ]
    },
    {
      "cell_type": "code",
      "metadata": {
        "id": "LqxrP5BQUQUc",
        "colab_type": "code",
        "colab": {
          "base_uri": "https://localhost:8080/",
          "height": 581
        },
        "outputId": "24b12c22-f708-4b72-9efe-342abf74b962"
      },
      "source": [
        "#~# Advertising Dataset #~#\n",
        "\n",
        "rf = RandomForestRegressor(featuresCol=\"indexedFeatures\", maxDepth=10, numTrees=80)\n",
        "\n",
        "pipeline_rf = Pipeline(stages=[featureIndexer, rf])\n",
        "model_rf = pipeline_rf.fit(trainingData_ad)\n",
        "predictions_rf = model_rf.transform(testData_ad)\n",
        "\n",
        "rmse_rf = evaluator.evaluate(predictions_rf)\n",
        "\n",
        "print(\"Random Forest Tree (RMSE) = %g\" % rmse_rf)\n",
        "\n",
        "treeModel_rf = model_rf.stages[1]\n",
        "print(treeModel_rf)\n",
        "predictions_rf.select(\"label\", \"prediction\").sample(False, 0.15, 123).show(10)\n",
        "\n",
        "y_true = predictions_rf.select(\"label\").toPandas()\n",
        "y_pred = predictions_rf.select(\"prediction\").toPandas()\n",
        "\n",
        "plt.scatter(y_true, y_pred, color = 'red', s=5)\n",
        "\n",
        "plt.title(\"Random Forest_Advertising\")\n",
        "plt.xlabel(\"Actual Values\")\n",
        "plt.ylabel(\"Predicted Values\")"
      ],
      "execution_count": 458,
      "outputs": [
        {
          "output_type": "stream",
          "text": [
            "Random Forest Tree (RMSE) = 1.46424\n",
            "RandomForestRegressionModel (uid=RandomForestRegressor_1d7de580f3de) with 80 trees\n",
            "+-----+------------------+\n",
            "|label|        prediction|\n",
            "+-----+------------------+\n",
            "|  9.5| 9.788833333333333|\n",
            "|  9.7| 10.28041666666667|\n",
            "| 13.3|13.130083333333332|\n",
            "| 11.7|12.721857026143784|\n",
            "| 21.2|19.709978174603183|\n",
            "| 19.4| 19.26609722222222|\n",
            "| 23.2|18.697750000000003|\n",
            "| 20.2| 19.02500000000001|\n",
            "| 16.1|15.491723214285718|\n",
            "+-----+------------------+\n",
            "\n"
          ],
          "name": "stdout"
        },
        {
          "output_type": "execute_result",
          "data": {
            "text/plain": [
              "Text(0, 0.5, 'Predicted Values')"
            ]
          },
          "metadata": {
            "tags": []
          },
          "execution_count": 458
        },
        {
          "output_type": "display_data",
          "data": {
            "image/png": "[encoded data removed]",
            "text/plain": [
              "<Figure size 432x288 with 1 Axes>"
            ]
          },
          "metadata": {
            "tags": []
          }
        }
      ]
    },
    {
      "cell_type": "code",
      "metadata": {
        "id": "jsE5ECttUQg1",
        "colab_type": "code",
        "colab": {
          "base_uri": "https://localhost:8080/",
          "height": 614
        },
        "outputId": "bc2f6fff-3e24-4054-8400-440b0f874bb5"
      },
      "source": [
        "#~# Advertising Dataset #~#\n",
        "\n",
        "gbt = GBTRegressor(featuresCol=\"indexedFeatures\", maxIter=40, lossType='squared', featureSubsetStrategy='all')\n",
        "\n",
        "pipeline_gbt = Pipeline(stages=[featureIndexer, gbt])\n",
        "model_gbt = pipeline_gbt.fit(trainingData_ad)\n",
        "predictions_gbt = model_gbt.transform(testData_ad)\n",
        "\n",
        "rmse_gbt = evaluator.evaluate(predictions_gbt)\n",
        "\n",
        "print(\"Gradient Boosted Tree (RMSE) = %g\" % rmse_gbt)\n",
        "\n",
        "treeModel_gbt = model_gbt.stages[1]\n",
        "print(treeModel_gbt)\n",
        "predictions_gbt.select(\"label\", \"prediction\").sample(False, 0.5, 123).show(10)\n",
        "\n",
        "plt.scatter(y_true, y_pred, color = 'red', s=5)\n",
        "\n",
        "plt.title(\"Gradient Boosted_Advertising\")\n",
        "plt.xlabel(\"Actual Values\")\n",
        "plt.ylabel(\"Predicted Values\")"
      ],
      "execution_count": 459,
      "outputs": [
        {
          "output_type": "stream",
          "text": [
            "Gradient Boosted Tree (RMSE) = 1.04325\n",
            "GBTRegressionModel (uid=GBTRegressor_6299eb8f016f) with 40 trees\n",
            "+-----+------------------+\n",
            "|label|        prediction|\n",
            "+-----+------------------+\n",
            "|  6.7| 6.349044838628282|\n",
            "|  7.6| 6.399239784907967|\n",
            "|  9.2| 9.791619956452369|\n",
            "|  9.5| 9.071615308073522|\n",
            "| 10.1| 9.569381551341293|\n",
            "| 11.6|12.225133437759697|\n",
            "|  9.7| 9.339679494965742|\n",
            "|  8.6| 9.695862243289781|\n",
            "| 14.6|16.476178125161578|\n",
            "| 13.3|12.555742928960656|\n",
            "+-----+------------------+\n",
            "only showing top 10 rows\n",
            "\n"
          ],
          "name": "stdout"
        },
        {
          "output_type": "execute_result",
          "data": {
            "text/plain": [
              "Text(0, 0.5, 'Predicted Values')"
            ]
          },
          "metadata": {
            "tags": []
          },
          "execution_count": 459
        },
        {
          "output_type": "display_data",
          "data": {
            "image/png": "[encoded data removed]",
            "text/plain": [
              "<Figure size 432x288 with 1 Axes>"
            ]
          },
          "metadata": {
            "tags": []
          }
        }
      ]
    },
    {
      "cell_type": "code",
      "metadata": {
        "id": "ortUMVX8U7QQ",
        "colab_type": "code",
        "colab": {
          "base_uri": "https://localhost:8080/",
          "height": 598
        },
        "outputId": "6c9bbde9-bee1-46b7-978f-95d6e73ac703"
      },
      "source": [
        "#~# Advertising Dataset #~#\n",
        "\n",
        "iso = IsotonicRegression(featuresCol=\"indexedFeatures\", isotonic=True)\n",
        "\n",
        "pipeline_iso = Pipeline(stages=[featureIndexer, iso])\n",
        "model_iso = pipeline_iso.fit(trainingData_ad)\n",
        "predictions_iso = model_iso.transform(testData_ad)\n",
        "\n",
        "rmse_iso = evaluator.evaluate(predictions_iso)\n",
        "\n",
        "print(\"Isotonic Regression (RMSE) = %g\" % rmse_iso)\n",
        "\n",
        "predictions_iso.select(\"label\", \"prediction\").sample(False, 0.5, 123).show(10)\n",
        "\n",
        "plt.scatter(y_true, y_pred, color = 'red', s=5)\n",
        "\n",
        "plt.title(\"Isotonic_Advertising\")\n",
        "plt.xlabel(\"Actual Values\")\n",
        "plt.ylabel(\"Predicted Values\")"
      ],
      "execution_count": 460,
      "outputs": [
        {
          "output_type": "stream",
          "text": [
            "Isotonic Regression (RMSE) = 3.18704\n",
            "+-----+------------------+\n",
            "|label|        prediction|\n",
            "+-----+------------------+\n",
            "|  6.7|              7.62|\n",
            "|  7.6|              7.62|\n",
            "|  9.2|              7.62|\n",
            "|  9.5| 8.844444444444445|\n",
            "| 10.1| 9.444444444444445|\n",
            "| 11.6| 9.444444444444445|\n",
            "|  9.7|              10.4|\n",
            "|  8.6|              10.4|\n",
            "| 14.6|10.842105263157892|\n",
            "| 13.3|10.842105263157892|\n",
            "+-----+------------------+\n",
            "only showing top 10 rows\n",
            "\n"
          ],
          "name": "stdout"
        },
        {
          "output_type": "execute_result",
          "data": {
            "text/plain": [
              "Text(0, 0.5, 'Predicted Values')"
            ]
          },
          "metadata": {
            "tags": []
          },
          "execution_count": 460
        },
        {
          "output_type": "display_data",
          "data": {
            "image/png": "[encoded data removed]",
            "text/plain": [
              "<Figure size 432x288 with 1 Axes>"
            ]
          },
          "metadata": {
            "tags": []
          }
        }
      ]
    },
    {
      "cell_type": "code",
      "metadata": {
        "id": "2q2BTvTyVXQL",
        "colab_type": "code",
        "colab": {}
      },
      "source": [
        "#~# Advertising Dataset #~# #~# Advertising Dataset #~# #~# Advertising Dataset #~# #~# Advertising Dataset #~# "
      ],
      "execution_count": 0,
      "outputs": []
    },
    {
      "cell_type": "code",
      "metadata": {
        "id": "ZFGRbIzjVbZn",
        "colab_type": "code",
        "colab": {}
      },
      "source": [
        "#~# Abalone Dataset #~# #~# Abalone Dataset #~# #~# Abalone Dataset #~# #~# Abalone Dataset #~# #~# Abalone Dataset #~#"
      ],
      "execution_count": 0,
      "outputs": []
    },
    {
      "cell_type": "code",
      "metadata": {
        "id": "V0MZq0LRRsER",
        "colab_type": "code",
        "colab": {
          "base_uri": "https://localhost:8080/",
          "height": 788
        },
        "outputId": "81775d28-3ccf-4f99-a885-239196e12556"
      },
      "source": [
        "#~# Abalone Dataset #~#\n",
        "\n",
        "Abalone_csv = spark.read.format('com.databricks.spark.csv').\\\n",
        "                              options(header='true', \\\n",
        "                              inferschema='true') \\\n",
        "                .load(\"/content/sample_data/abalone.csv\",header=True);\n",
        "\n",
        "Abalone_csv.show(10)\n",
        "\n",
        "from pyspark.ml.stat import Correlation\n",
        "\n",
        "data_ab = pd.read_csv('/content/sample_data/abalone.csv')\n",
        "plt.figure(figsize=(7,7)) \n",
        "sns.heatmap(data_ab.corr())"
      ],
      "execution_count": 463,
      "outputs": [
        {
          "output_type": "stream",
          "text": [
            "+---+------+--------+------+------------+--------------+--------------+------------+-----+\n",
            "|Sex|Length|Diameter|Height|Whole weight|Shucked weight|Viscera weight|Shell weight|Rings|\n",
            "+---+------+--------+------+------------+--------------+--------------+------------+-----+\n",
            "|  1| 0.455|   0.365| 0.095|       0.514|        0.2245|         0.101|        0.15|   15|\n",
            "|  1|  0.35|   0.265|  0.09|      0.2255|        0.0995|        0.0485|        0.07|    7|\n",
            "|  2|  0.53|    0.42| 0.135|       0.677|        0.2565|        0.1415|        0.21|    9|\n",
            "|  1|  0.44|   0.365| 0.125|       0.516|        0.2155|         0.114|       0.155|   10|\n",
            "|  0|  0.33|   0.255|  0.08|       0.205|        0.0895|        0.0395|       0.055|    7|\n",
            "|  0| 0.425|     0.3| 0.095|      0.3515|         0.141|        0.0775|        0.12|    8|\n",
            "|  2|  0.53|   0.415|  0.15|      0.7775|         0.237|        0.1415|        0.33|   20|\n",
            "|  2| 0.545|   0.425| 0.125|       0.768|         0.294|        0.1495|        0.26|   16|\n",
            "|  1| 0.475|    0.37| 0.125|      0.5095|        0.2165|        0.1125|       0.165|    9|\n",
            "|  2|  0.55|    0.44|  0.15|      0.8945|        0.3145|         0.151|        0.32|   19|\n",
            "+---+------+--------+------+------------+--------------+--------------+------------+-----+\n",
            "only showing top 10 rows\n",
            "\n"
          ],
          "name": "stdout"
        },
        {
          "output_type": "execute_result",
          "data": {
            "text/plain": [
              "<matplotlib.axes._subplots.AxesSubplot at 0x7ff4a5d16b38>"
            ]
          },
          "metadata": {
            "tags": []
          },
          "execution_count": 463
        },
        {
          "output_type": "display_data",
          "data": {
            "image/png": "[encoded data removed]",
            "text/plain": [
              "<Figure size 504x504 with 2 Axes>"
            ]
          },
          "metadata": {
            "tags": []
          }
        }
      ]
    },
    {
      "cell_type": "code",
      "metadata": {
        "id": "vaZ2K6ZKR-Qn",
        "colab_type": "code",
        "colab": {
          "base_uri": "https://localhost:8080/",
          "height": 168
        },
        "outputId": "e1ff3658-dcaf-48be-f3bf-3b36c33fd48c"
      },
      "source": [
        "#~# Abalone Dataset #~#\n",
        "\n",
        "import six\n",
        "for i in Abalone_csv.columns:\n",
        "    if not( isinstance(Abalone_csv.select(i).take(1)[0][0], six.string_types)):\n",
        "        print( \"Correlation to Rings for \", i, \"\\t\", Abalone_csv.stat.corr('Rings',i))"
      ],
      "execution_count": 464,
      "outputs": [
        {
          "output_type": "stream",
          "text": [
            "Correlation to Rings for  Sex \t 0.4014447499630559\n",
            "Correlation to Rings for  Length \t 0.5567195769296179\n",
            "Correlation to Rings for  Diameter \t 0.5746598513059199\n",
            "Correlation to Rings for  Height \t 0.5574673244580345\n",
            "Correlation to Rings for  Whole weight \t 0.5403896769238994\n",
            "Correlation to Rings for  Shucked weight \t 0.4208836579452148\n",
            "Correlation to Rings for  Viscera weight \t 0.5038192487597699\n",
            "Correlation to Rings for  Shell weight \t 0.6275740445103176\n",
            "Correlation to Rings for  Rings \t 1.0\n"
          ],
          "name": "stdout"
        }
      ]
    },
    {
      "cell_type": "code",
      "metadata": {
        "id": "NyTcmAeFSKjB",
        "colab_type": "code",
        "outputId": "28979aa1-b6dc-42e2-885e-450e95d4be35",
        "colab": {
          "base_uri": "https://localhost:8080/",
          "height": 302
        }
      },
      "source": [
        "#~# Abalone Dataset #~#\n",
        "\n",
        "def transData_ab(data):\n",
        "  return data.rdd.map(lambda r: [Vectors.dense(r[:-1]),r[-1]]).toDF(['features','label']) \n",
        "  \n",
        "transformed_ab = transData_ab(Abalone_csv)\n",
        "\n",
        "trainingData_ab, testData_ab = transformed_ab.randomSplit([0.7, 0.3], seed = 100)\n",
        "#transformed.sample(False, 0.1, 123).show(10)\n",
        "\n",
        "transformed_ab.show(10)\n",
        "Abalone_csv.count(),trainingData_ab.count(),testData_ab.count()"
      ],
      "execution_count": 465,
      "outputs": [
        {
          "output_type": "stream",
          "text": [
            "+--------------------+-----+\n",
            "|            features|label|\n",
            "+--------------------+-----+\n",
            "|[1.0,0.455,0.365,...|   15|\n",
            "|[1.0,0.35,0.265,0...|    7|\n",
            "|[2.0,0.53,0.42,0....|    9|\n",
            "|[1.0,0.44,0.365,0...|   10|\n",
            "|[0.0,0.33,0.255,0...|    7|\n",
            "|[0.0,0.425,0.3,0....|    8|\n",
            "|[2.0,0.53,0.415,0...|   20|\n",
            "|[2.0,0.545,0.425,...|   16|\n",
            "|[1.0,0.475,0.37,0...|    9|\n",
            "|[2.0,0.55,0.44,0....|   19|\n",
            "+--------------------+-----+\n",
            "only showing top 10 rows\n",
            "\n"
          ],
          "name": "stdout"
        },
        {
          "output_type": "execute_result",
          "data": {
            "text/plain": [
              "(4177, 2957, 1220)"
            ]
          },
          "metadata": {
            "tags": []
          },
          "execution_count": 465
        }
      ]
    },
    {
      "cell_type": "code",
      "metadata": {
        "id": "O9DQb9q2ZS_5",
        "colab_type": "code",
        "colab": {}
      },
      "source": [
        "#~# Abalone Dataset #~#\n",
        "\n",
        "labelIndexer = StringIndexer(inputCol=\"label\", outputCol=\"indexedLabel\").fit(transformed_ab)\n",
        "featureIndexer = VectorIndexer(inputCol=\"features\", outputCol=\"indexedFeatures\", maxCategories=4).fit(transformed_ab)\n",
        "labelConverter = IndexToString(inputCol=\"prediction\", outputCol=\"predictedLabel\", labels=labelIndexer.labels)"
      ],
      "execution_count": 0,
      "outputs": []
    },
    {
      "cell_type": "code",
      "metadata": {
        "id": "rSJ7ynuSSOfZ",
        "colab_type": "code",
        "outputId": "76db9572-10fd-43bc-b85d-23a29db7014a",
        "colab": {
          "base_uri": "https://localhost:8080/",
          "height": 614
        }
      },
      "source": [
        "#~# Abalone Dataset #~#\n",
        "\n",
        "dt = DecisionTreeRegressor(featuresCol=\"indexedFeatures\", maxDepth=7)\n",
        "\n",
        "pipeline_dt = Pipeline(stages=[featureIndexer, dt])\n",
        "model_dt = pipeline_dt.fit(trainingData_ab)\n",
        "predictions_dt = model_dt.transform(testData_ab)\n",
        "\n",
        "rmse_dt = evaluator.evaluate(predictions_dt)\n",
        "\n",
        "print(\"Decision Tree (RMSE) = %g\" % rmse_dt)\n",
        "\n",
        "treeModel_dt = model_dt.stages[1]\n",
        "print(treeModel_dt)\n",
        "predictions_dt.select(\"label\", \"prediction\").sample(False, 0.1, 123).show(10)\n",
        "\n",
        "y_true = predictions_rf.select(\"label\").toPandas()\n",
        "y_pred = predictions_rf.select(\"prediction\").toPandas()\n",
        "\n",
        "plt.scatter(y_true, y_pred, color = 'red', s=5)\n",
        "\n",
        "plt.title(\"Decision Tree_Abalone\")\n",
        "plt.xlabel(\"Actual Values\")\n",
        "plt.ylabel(\"Predicted Values\")"
      ],
      "execution_count": 467,
      "outputs": [
        {
          "output_type": "stream",
          "text": [
            "Decision Tree (RMSE) = 2.3651\n",
            "DecisionTreeRegressionModel (uid=DecisionTreeRegressor_2a4b01c17786) of depth 7 with 227 nodes\n",
            "+-----+------------------+\n",
            "|label|        prediction|\n",
            "+-----+------------------+\n",
            "|    4|4.3061224489795915|\n",
            "|    7|               6.0|\n",
            "|    6| 5.955223880597015|\n",
            "|    7| 5.955223880597015|\n",
            "|    6| 5.955223880597015|\n",
            "|    9| 6.602564102564102|\n",
            "|    7| 6.602564102564102|\n",
            "|    7| 6.778846153846154|\n",
            "|    7| 6.602564102564102|\n",
            "|    7| 6.778846153846154|\n",
            "+-----+------------------+\n",
            "only showing top 10 rows\n",
            "\n"
          ],
          "name": "stdout"
        },
        {
          "output_type": "execute_result",
          "data": {
            "text/plain": [
              "Text(0, 0.5, 'Predicted Values')"
            ]
          },
          "metadata": {
            "tags": []
          },
          "execution_count": 467
        },
        {
          "output_type": "display_data",
          "data": {
            "image/png": "[encoded data removed]",
            "text/plain": [
              "<Figure size 432x288 with 1 Axes>"
            ]
          },
          "metadata": {
            "tags": []
          }
        }
      ]
    },
    {
      "cell_type": "code",
      "metadata": {
        "id": "rPcH93ci74XN",
        "colab_type": "code",
        "outputId": "5188bcb9-ac12-4226-e3aa-104986c57d9a",
        "colab": {
          "base_uri": "https://localhost:8080/",
          "height": 614
        }
      },
      "source": [
        " #~# Abalone Dataset #~#\n",
        "\n",
        "rf = RandomForestRegressor(featuresCol=\"indexedFeatures\", maxDepth=10, numTrees=50)\n",
        "\n",
        "pipeline_rf = Pipeline(stages=[featureIndexer, rf])\n",
        "model_rf = pipeline_rf.fit(trainingData_ab)\n",
        "predictions_rf = model_rf.transform(testData_ab)\n",
        "\n",
        "rmse_rf = evaluator.evaluate(predictions_rf)\n",
        "\n",
        "print(\"Random Forest Tree (RMSE) = %g\" % rmse_rf)\n",
        "\n",
        "treeModel_rf = model_rf.stages[1]\n",
        "print(treeModel_rf)\n",
        "predictions_rf.select(\"label\", \"prediction\").sample(False, 0.1, 123).show(10)\n",
        "\n",
        "y_true = predictions_rf.select(\"label\").toPandas()\n",
        "y_pred = predictions_rf.select(\"prediction\").toPandas()\n",
        "\n",
        "plt.scatter(y_true, y_pred, color = 'red', s=5)\n",
        "\n",
        "plt.title(\"Random Forest_Abalone\")\n",
        "plt.xlabel(\"Actual Values\")\n",
        "plt.ylabel(\"Predicted Values\")"
      ],
      "execution_count": 468,
      "outputs": [
        {
          "output_type": "stream",
          "text": [
            "Random Forest Tree (RMSE) = 2.2773\n",
            "RandomForestRegressionModel (uid=RandomForestRegressor_65c8473fdef3) with 50 trees\n",
            "+-----+------------------+\n",
            "|label|        prediction|\n",
            "+-----+------------------+\n",
            "|    4| 4.328174940544755|\n",
            "|    7| 5.049478264614556|\n",
            "|    6| 5.598596471927232|\n",
            "|    7| 6.576521602381061|\n",
            "|    6|6.0781894979992215|\n",
            "|    9|  6.78708881463684|\n",
            "|    7| 6.745994530731452|\n",
            "|    7| 6.806550273332549|\n",
            "|    7| 6.826470025618932|\n",
            "|    7|6.8347432088057705|\n",
            "+-----+------------------+\n",
            "only showing top 10 rows\n",
            "\n"
          ],
          "name": "stdout"
        },
        {
          "output_type": "execute_result",
          "data": {
            "text/plain": [
              "Text(0, 0.5, 'Predicted Values')"
            ]
          },
          "metadata": {
            "tags": []
          },
          "execution_count": 468
        },
        {
          "output_type": "display_data",
          "data": {
            "image/png": "[encoded data removed]",
            "text/plain": [
              "<Figure size 432x288 with 1 Axes>"
            ]
          },
          "metadata": {
            "tags": []
          }
        }
      ]
    },
    {
      "cell_type": "code",
      "metadata": {
        "id": "CfvyKmVh8efF",
        "colab_type": "code",
        "outputId": "a2a6e591-31c1-4f8a-f447-027212358c9a",
        "colab": {
          "base_uri": "https://localhost:8080/",
          "height": 631
        }
      },
      "source": [
        "#~# Abalone Dataset #~#\n",
        "\n",
        "gbt = GBTRegressor(featuresCol=\"indexedFeatures\", maxIter=30, lossType='squared', featureSubsetStrategy='all')\n",
        "\n",
        "pipeline_gbt = Pipeline(stages=[featureIndexer, gbt])\n",
        "model_gbt = pipeline_gbt.fit(trainingData_ab)\n",
        "predictions_gbt = model_gbt.transform(testData_ab)\n",
        "\n",
        "rmse_gbt = evaluator.evaluate(predictions_gbt)\n",
        "\n",
        "print(\"Gradient Boosted Tree (RMSE) = %g\" % rmse_gbt)\n",
        "\n",
        "treeModel_gbt = model_gbt.stages[1]\n",
        "print(treeModel_gbt)\n",
        "predictions_gbt.select(\"label\", \"prediction\").sample(False, 0.1, 123).show(10)\n",
        "\n",
        "r2_score = sklearn.metrics.r2_score(y_true, y_pred)\n",
        "print('r2_score: {0}'.format(r2_score))\n",
        "\n",
        "plt.scatter(y_true, y_pred, color = 'red', s=5)\n",
        "\n",
        "plt.title(\"Gradient Boosted_Abalone\")\n",
        "plt.xlabel(\"Actual Values\")\n",
        "plt.ylabel(\"Predicted Values\")"
      ],
      "execution_count": 469,
      "outputs": [
        {
          "output_type": "stream",
          "text": [
            "Gradient Boosted Tree (RMSE) = 2.32878\n",
            "GBTRegressionModel (uid=GBTRegressor_fc66967b1819) with 30 trees\n",
            "+-----+------------------+\n",
            "|label|        prediction|\n",
            "+-----+------------------+\n",
            "|    4| 4.306516519993247|\n",
            "|    7| 5.995041110157182|\n",
            "|    6| 6.007386789169527|\n",
            "|    7| 6.043959211269638|\n",
            "|    6| 6.043959211269638|\n",
            "|    9| 6.549685821413919|\n",
            "|    7|6.5675699817858115|\n",
            "|    7| 6.869781878855633|\n",
            "|    7| 6.819936799275293|\n",
            "|    7| 6.892077772117578|\n",
            "+-----+------------------+\n",
            "only showing top 10 rows\n",
            "\n",
            "r2_score: 0.5389171269920582\n"
          ],
          "name": "stdout"
        },
        {
          "output_type": "execute_result",
          "data": {
            "text/plain": [
              "Text(0, 0.5, 'Predicted Values')"
            ]
          },
          "metadata": {
            "tags": []
          },
          "execution_count": 469
        },
        {
          "output_type": "display_data",
          "data": {
            "image/png": "[encoded data removed]",
            "text/plain": [
              "<Figure size 432x288 with 1 Axes>"
            ]
          },
          "metadata": {
            "tags": []
          }
        }
      ]
    },
    {
      "cell_type": "code",
      "metadata": {
        "colab_type": "code",
        "outputId": "465120fe-5b0e-4eda-c530-b79eae6832c4",
        "id": "_WRxyrv1VByA",
        "colab": {
          "base_uri": "https://localhost:8080/",
          "height": 614
        }
      },
      "source": [
        "#~# Abalone Dataset #~#\n",
        "\n",
        "iso = IsotonicRegression(featuresCol=\"indexedFeatures\", isotonic=True)\n",
        "\n",
        "pipeline_iso = Pipeline(stages=[featureIndexer, iso])\n",
        "model_iso = pipeline_iso.fit(trainingData_ab)\n",
        "predictions_iso = model_iso.transform(testData_ab)\n",
        "\n",
        "rmse_iso = evaluator.evaluate(predictions_iso)\n",
        "\n",
        "print(\"Isotonic Regression (RMSE) = %g\" % rmse_iso)\n",
        "\n",
        "predictions_iso.select(\"label\", \"prediction\").sample(False, 0.1, 123).show(10)\n",
        "\n",
        "r2_score = sklearn.metrics.r2_score(y_true, y_pred)\n",
        "print('r2_score: {0}'.format(r2_score))\n",
        "\n",
        "plt.scatter(y_true, y_pred, color = 'red', s=5)\n",
        "\n",
        "plt.title(\"Isotonic_Abalone\")\n",
        "plt.xlabel(\"Actual Values\")\n",
        "plt.ylabel(\"Predicted Values\")"
      ],
      "execution_count": 470,
      "outputs": [
        {
          "output_type": "stream",
          "text": [
            "Isotonic Regression (RMSE) = 3.1454\n",
            "+-----+----------+\n",
            "|label|prediction|\n",
            "+-----+----------+\n",
            "|    4|       8.0|\n",
            "|    7|       8.0|\n",
            "|    6|       8.0|\n",
            "|    7|       8.0|\n",
            "|    6|       8.0|\n",
            "|    9|       8.0|\n",
            "|    7|       8.0|\n",
            "|    7|       8.0|\n",
            "|    7|       8.0|\n",
            "|    7|       8.0|\n",
            "+-----+----------+\n",
            "only showing top 10 rows\n",
            "\n",
            "r2_score: 0.5389171269920582\n"
          ],
          "name": "stdout"
        },
        {
          "output_type": "execute_result",
          "data": {
            "text/plain": [
              "Text(0, 0.5, 'Predicted Values')"
            ]
          },
          "metadata": {
            "tags": []
          },
          "execution_count": 470
        },
        {
          "output_type": "display_data",
          "data": {
            "image/png": "[encoded data removed]",
            "text/plain": [
              "<Figure size 432x288 with 1 Axes>"
            ]
          },
          "metadata": {
            "tags": []
          }
        }
      ]
    },
    {
      "cell_type": "code",
      "metadata": {
        "id": "g0IxuHB8Wepg",
        "colab_type": "code",
        "colab": {}
      },
      "source": [
        "#~# Abalone Dataset #~# #~# Abalone Dataset #~# #~# Abalone Dataset #~# #~# Abalone Dataset #~# #~# Abalone Dataset #~#"
      ],
      "execution_count": 0,
      "outputs": []
    },
    {
      "cell_type": "code",
      "metadata": {
        "id": "eWritHzTWfEc",
        "colab_type": "code",
        "colab": {}
      },
      "source": [
        "#~# Insurance Dataset #~# #~# Insurance Dataset #~# #~# Insurance Dataset #~# #~# Insurance Dataset #~# #~# Insurance Dataset #~#"
      ],
      "execution_count": 0,
      "outputs": []
    },
    {
      "cell_type": "code",
      "metadata": {
        "id": "oDmUTkhIWpFE",
        "colab_type": "code",
        "colab": {
          "base_uri": "https://localhost:8080/",
          "height": 718
        },
        "outputId": "3fe9a0ac-99f1-4c66-e62d-7eb0c26013da"
      },
      "source": [
        "#~# Insurance Dataset #~#\n",
        "\n",
        "Insurance_csv = spark.read.format('com.databricks.spark.csv').\\\n",
        "                              options(header='true', \\\n",
        "                              inferschema='true') \\\n",
        "                .load(\"/content/sample_data/insurance.csv\",header=True);\n",
        "\n",
        "Insurance_csv.show(10)\n",
        "\n",
        "from pyspark.ml.stat import Correlation\n",
        "\n",
        "data_in = pd.read_csv('/content/sample_data/insurance.csv')\n",
        "plt.figure(figsize=(7,7)) \n",
        "sns.heatmap(data_in.corr())"
      ],
      "execution_count": 473,
      "outputs": [
        {
          "output_type": "stream",
          "text": [
            "+---+---+------+--------+------+------+-----------+\n",
            "|age|sex|   bmi|children|smoker|region|    charges|\n",
            "+---+---+------+--------+------+------+-----------+\n",
            "| 19|  1|  27.9|       0|     1|     3|  16884.924|\n",
            "| 18|  0| 33.77|       1|     0|     2|  1725.5523|\n",
            "| 28|  0|  33.0|       3|     0|     2|   4449.462|\n",
            "| 33|  0|22.705|       0|     0|     4|21984.47061|\n",
            "| 32|  0| 28.88|       0|     0|     4|  3866.8552|\n",
            "| 31|  1| 25.74|       0|     0|     2|  3756.6216|\n",
            "| 46|  1| 33.44|       1|     0|     2|  8240.5896|\n",
            "| 37|  1| 27.74|       3|     0|     4|  7281.5056|\n",
            "| 37|  0| 29.83|       2|     0|     1|  6406.4107|\n",
            "| 60|  1| 25.84|       0|     0|     4|28923.13692|\n",
            "+---+---+------+--------+------+------+-----------+\n",
            "only showing top 10 rows\n",
            "\n"
          ],
          "name": "stdout"
        },
        {
          "output_type": "execute_result",
          "data": {
            "text/plain": [
              "<matplotlib.axes._subplots.AxesSubplot at 0x7ff4a5a47b00>"
            ]
          },
          "metadata": {
            "tags": []
          },
          "execution_count": 473
        },
        {
          "output_type": "display_data",
          "data": {
            "image/png": "[encoded data removed]",
            "text/plain": [
              "<Figure size 504x504 with 2 Axes>"
            ]
          },
          "metadata": {
            "tags": []
          }
        }
      ]
    },
    {
      "cell_type": "code",
      "metadata": {
        "id": "m8c0RjvYW8li",
        "colab_type": "code",
        "colab": {
          "base_uri": "https://localhost:8080/",
          "height": 134
        },
        "outputId": "8004848a-f765-4df0-8acf-0ad2f08309d0"
      },
      "source": [
        "#~# Insurance Dataset #~#\n",
        "\n",
        "import six\n",
        "for i in Insurance_csv.columns:\n",
        "    if not( isinstance(Insurance_csv.select(i).take(1)[0][0], six.string_types)):\n",
        "        print( \"Correlation to Charges for \", i, \"\\t\", Insurance_csv.stat.corr('charges',i))"
      ],
      "execution_count": 474,
      "outputs": [
        {
          "output_type": "stream",
          "text": [
            "Correlation to Charges for  age \t 0.299008193330648\n",
            "Correlation to Charges for  sex \t -0.05729206220202545\n",
            "Correlation to Charges for  bmi \t 0.19834096883362906\n",
            "Correlation to Charges for  children \t 0.06799822684790494\n",
            "Correlation to Charges for  smoker \t 0.7872514304984765\n",
            "Correlation to Charges for  region \t -0.05022619604539937\n",
            "Correlation to Charges for  charges \t 1.0\n"
          ],
          "name": "stdout"
        }
      ]
    },
    {
      "cell_type": "code",
      "metadata": {
        "id": "3Jb49fnsb-IS",
        "colab_type": "code",
        "colab": {
          "base_uri": "https://localhost:8080/",
          "height": 202
        },
        "outputId": "e31d40f0-5418-497a-fd4f-d94107887afe"
      },
      "source": [
        "#~# Insurance Dataset #~#\n",
        "\n",
        "drop_list_in = ['sex', 'region']\n",
        "\n",
        "Insurance_csv = Insurance_csv.select([column for column in Insurance_csv.columns if column not in drop_list_in])\n",
        "Insurance_csv.show(5)"
      ],
      "execution_count": 475,
      "outputs": [
        {
          "output_type": "stream",
          "text": [
            "+---+------+--------+------+-----------+\n",
            "|age|   bmi|children|smoker|    charges|\n",
            "+---+------+--------+------+-----------+\n",
            "| 19|  27.9|       0|     1|  16884.924|\n",
            "| 18| 33.77|       1|     0|  1725.5523|\n",
            "| 28|  33.0|       3|     0|   4449.462|\n",
            "| 33|22.705|       0|     0|21984.47061|\n",
            "| 32| 28.88|       0|     0|  3866.8552|\n",
            "+---+------+--------+------+-----------+\n",
            "only showing top 5 rows\n",
            "\n"
          ],
          "name": "stdout"
        }
      ]
    },
    {
      "cell_type": "code",
      "metadata": {
        "id": "kpBKvYqPW8oa",
        "colab_type": "code",
        "colab": {
          "base_uri": "https://localhost:8080/",
          "height": 286
        },
        "outputId": "c4fc9ed2-a63d-481a-9514-97af2a52203e"
      },
      "source": [
        "#~# Insurance Dataset #~#\n",
        "\n",
        "def transData_in(data):\n",
        "  return data.rdd.map(lambda r: [Vectors.dense(r[:-1]),r[-1]]).toDF(['features','label'])   \n",
        "\n",
        "transformed_in = transData_in(Insurance_csv)\n",
        "\n",
        "trainingData_in, testData_in = transformed_in.randomSplit([0.7, 0.3], seed = 100)\n",
        "#transformed.sample(False, 0.1, 123).show(10)\n",
        "\n",
        "Insurance_csv.count(),trainingData_in.count(),testData_in.count()\n",
        "\n",
        "transformed_in.show(10)"
      ],
      "execution_count": 476,
      "outputs": [
        {
          "output_type": "stream",
          "text": [
            "+--------------------+-----------+\n",
            "|            features|      label|\n",
            "+--------------------+-----------+\n",
            "| [19.0,27.9,0.0,1.0]|  16884.924|\n",
            "|[18.0,33.77,1.0,0.0]|  1725.5523|\n",
            "| [28.0,33.0,3.0,0.0]|   4449.462|\n",
            "|[33.0,22.705,0.0,...|21984.47061|\n",
            "|[32.0,28.88,0.0,0.0]|  3866.8552|\n",
            "|[31.0,25.74,0.0,0.0]|  3756.6216|\n",
            "|[46.0,33.44,1.0,0.0]|  8240.5896|\n",
            "|[37.0,27.74,3.0,0.0]|  7281.5056|\n",
            "|[37.0,29.83,2.0,0.0]|  6406.4107|\n",
            "|[60.0,25.84,0.0,0.0]|28923.13692|\n",
            "+--------------------+-----------+\n",
            "only showing top 10 rows\n",
            "\n"
          ],
          "name": "stdout"
        }
      ]
    },
    {
      "cell_type": "code",
      "metadata": {
        "id": "InkUyyPAZivU",
        "colab_type": "code",
        "colab": {}
      },
      "source": [
        "#~# Insurance Dataset #~#\n",
        "\n",
        "labelIndexer = StringIndexer(inputCol=\"label\", outputCol=\"indexedLabel\").fit(transformed_in)\n",
        "featureIndexer = VectorIndexer(inputCol=\"features\", outputCol=\"indexedFeatures\", maxCategories=4).fit(transformed_in)\n",
        "labelConverter = IndexToString(inputCol=\"prediction\", outputCol=\"predictedLabel\", labels=labelIndexer.labels)"
      ],
      "execution_count": 0,
      "outputs": []
    },
    {
      "cell_type": "code",
      "metadata": {
        "id": "tZ4_e4EdW8q1",
        "colab_type": "code",
        "colab": {
          "base_uri": "https://localhost:8080/",
          "height": 581
        },
        "outputId": "f40f69e1-269a-4234-982b-a7e3e9af71a9"
      },
      "source": [
        "#~# Insurance Dataset #~#\n",
        "\n",
        "dt = DecisionTreeRegressor(featuresCol=\"indexedFeatures\", maxDepth=5)\n",
        "\n",
        "pipeline_dt = Pipeline(stages=[featureIndexer, dt])\n",
        "model_dt = pipeline_dt.fit(trainingData_in)\n",
        "predictions_dt = model_dt.transform(testData_in)\n",
        "\n",
        "rmse_dt = evaluator.evaluate(predictions_dt)\n",
        "\n",
        "print(\"Decision Tree (RMSE) = %g\" % rmse_dt)\n",
        "\n",
        "treeModel_dt = model_dt.stages[1]\n",
        "print(treeModel_dt)\n",
        "predictions_dt.select(\"label\", \"prediction\").sample(False, 0.1, 123).show(8)\n",
        "\n",
        "y_true = predictions_dt.select(\"label\").toPandas()\n",
        "y_pred = predictions_dt.select(\"prediction\").toPandas()\n",
        "\n",
        "plt.scatter(y_true, y_pred, color = 'red', s=5)\n",
        "\n",
        "plt.title(\"Decision Tree_Insurance\")\n",
        "plt.xlabel(\"Actual Values\")\n",
        "plt.ylabel(\"Predicted Values\")"
      ],
      "execution_count": 478,
      "outputs": [
        {
          "output_type": "stream",
          "text": [
            "Decision Tree (RMSE) = 4228.78\n",
            "DecisionTreeRegressionModel (uid=DecisionTreeRegressor_7bab960b8052) of depth 5 with 63 nodes\n",
            "+----------+------------------+\n",
            "|     label|        prediction|\n",
            "+----------+------------------+\n",
            "|2207.69745| 2794.610627037036|\n",
            "|33307.5508|17821.094107727276|\n",
            "|  1875.344| 2794.610627037036|\n",
            "| 2639.0429| 4188.357318918917|\n",
            "|2395.17155| 2794.610627037036|\n",
            "| 1986.9334| 2794.610627037036|\n",
            "|  3208.787| 4188.357318918917|\n",
            "|  2974.126| 4341.056531739131|\n",
            "+----------+------------------+\n",
            "only showing top 8 rows\n",
            "\n"
          ],
          "name": "stdout"
        },
        {
          "output_type": "execute_result",
          "data": {
            "text/plain": [
              "Text(0, 0.5, 'Predicted Values')"
            ]
          },
          "metadata": {
            "tags": []
          },
          "execution_count": 478
        },
        {
          "output_type": "display_data",
          "data": {
            "image/png": "[encoded data removed]",
            "text/plain": [
              "<Figure size 432x288 with 1 Axes>"
            ]
          },
          "metadata": {
            "tags": []
          }
        }
      ]
    },
    {
      "cell_type": "code",
      "metadata": {
        "id": "WlHkIldIW8to",
        "colab_type": "code",
        "colab": {
          "base_uri": "https://localhost:8080/",
          "height": 631
        },
        "outputId": "bf295b1b-4278-4fcf-e713-db3598f76982"
      },
      "source": [
        "#~# Insurance Dataset #~#\n",
        "\n",
        "rf = RandomForestRegressor(featuresCol=\"indexedFeatures\", maxDepth=5, numTrees=100)\n",
        "\n",
        "pipeline_rf = Pipeline(stages=[featureIndexer, rf])\n",
        "model_rf = pipeline_rf.fit(trainingData_in)\n",
        "predictions_rf = model_rf.transform(testData_in)\n",
        "\n",
        "rmse_rf = evaluator.evaluate(predictions_rf)\n",
        "\n",
        "print(\"Random Forest Tree (RMSE) = %g\" % rmse_rf)\n",
        "\n",
        "treeModel_rf = model_rf.stages[1]\n",
        "print(treeModel_rf)\n",
        "predictions_rf.select(\"label\", \"prediction\").sample(False, 0.1, 123).show(10)\n",
        "\n",
        "y_true = predictions_rf.select(\"label\").toPandas()\n",
        "y_pred = predictions_rf.select(\"prediction\").toPandas()\n",
        "\n",
        "r2_score = sklearn.metrics.r2_score(y_true, y_pred)\n",
        "print('r2_score: {0}'.format(r2_score))\n",
        "\n",
        "plt.scatter(y_true, y_pred, color = 'red', s=5)\n",
        "\n",
        "plt.title(\"Random Forest_Insurance\")\n",
        "plt.xlabel(\"Actual Values\")\n",
        "plt.ylabel(\"Predicted Values\")"
      ],
      "execution_count": 479,
      "outputs": [
        {
          "output_type": "stream",
          "text": [
            "Random Forest Tree (RMSE) = 4156.67\n",
            "RandomForestRegressionModel (uid=RandomForestRegressor_a1dc25cbd067) with 100 trees\n",
            "+----------+------------------+\n",
            "|     label|        prediction|\n",
            "+----------+------------------+\n",
            "|2207.69745|3921.3960937393053|\n",
            "|33307.5508| 19552.67573392877|\n",
            "|  1875.344| 3901.909016924505|\n",
            "| 2639.0429| 5000.592160699974|\n",
            "|2395.17155|3960.6194967154634|\n",
            "| 1986.9334| 4894.183101068435|\n",
            "|  3208.787| 4960.139788781979|\n",
            "|  2974.126| 4625.770549116227|\n",
            "|39611.7577| 38029.50257318887|\n",
            "| 5428.7277| 7327.542108295923|\n",
            "+----------+------------------+\n",
            "only showing top 10 rows\n",
            "\n",
            "r2_score: 0.879559979889162\n"
          ],
          "name": "stdout"
        },
        {
          "output_type": "execute_result",
          "data": {
            "text/plain": [
              "Text(0, 0.5, 'Predicted Values')"
            ]
          },
          "metadata": {
            "tags": []
          },
          "execution_count": 479
        },
        {
          "output_type": "display_data",
          "data": {
            "image/png": "[encoded data removed]",
            "text/plain": [
              "<Figure size 432x288 with 1 Axes>"
            ]
          },
          "metadata": {
            "tags": []
          }
        }
      ]
    },
    {
      "cell_type": "code",
      "metadata": {
        "id": "kqY0KBUuW8wX",
        "colab_type": "code",
        "colab": {
          "base_uri": "https://localhost:8080/",
          "height": 631
        },
        "outputId": "06617750-314b-46e9-8f93-bc901d836f39"
      },
      "source": [
        "#~# Insurance Dataset #~#\n",
        "\n",
        "gbt = GBTRegressor(featuresCol=\"indexedFeatures\", maxIter=30, lossType='squared', featureSubsetStrategy='all')\n",
        "\n",
        "pipeline_gbt = Pipeline(stages=[featureIndexer, gbt])\n",
        "model_gbt = pipeline_gbt.fit(trainingData_in)\n",
        "predictions_gbt = model_gbt.transform(testData_in)\n",
        "\n",
        "rmse_gbt = evaluator.evaluate(predictions_gbt)\n",
        "\n",
        "print(\"Gradient Boosted Tree (RMSE) = %g\" % rmse_gbt)\n",
        "\n",
        "treeModel_gbt = model_gbt.stages[1]\n",
        "print(treeModel_gbt)\n",
        "predictions_gbt.select(\"label\", \"prediction\").sample(False, 0.1, 123).show(10)\n",
        "\n",
        "y_true = predictions_gbt.select(\"label\").toPandas()\n",
        "y_pred = predictions_gbt.select(\"prediction\").toPandas()\n",
        "\n",
        "r2_score = sklearn.metrics.r2_score(y_true, y_pred)\n",
        "print('r2_score: {0}'.format(r2_score))\n",
        "\n",
        "plt.scatter(y_true, y_pred, color = 'red', s=5)\n",
        "\n",
        "plt.title(\"Gradient Boosted_Insurance\")\n",
        "plt.xlabel(\"Actual Values\")\n",
        "plt.ylabel(\"Predicted Values\")"
      ],
      "execution_count": 480,
      "outputs": [
        {
          "output_type": "stream",
          "text": [
            "Gradient Boosted Tree (RMSE) = 4699\n",
            "GBTRegressionModel (uid=GBTRegressor_00d9ed207a4e) with 30 trees\n",
            "+----------+------------------+\n",
            "|     label|        prediction|\n",
            "+----------+------------------+\n",
            "|2207.69745|1695.8502480145532|\n",
            "|33307.5508|17661.097413793785|\n",
            "|  1875.344|  3153.67174970444|\n",
            "| 2639.0429| 4284.744480784232|\n",
            "|2395.17155| 2926.166808031291|\n",
            "| 1986.9334|2971.9790317121347|\n",
            "|  3208.787| 3564.389287950922|\n",
            "|  2974.126| 5315.334061399122|\n",
            "|39611.7577| 43888.46915046371|\n",
            "| 5428.7277| 5671.664070202669|\n",
            "+----------+------------------+\n",
            "only showing top 10 rows\n",
            "\n",
            "r2_score: 0.846081743392158\n"
          ],
          "name": "stdout"
        },
        {
          "output_type": "execute_result",
          "data": {
            "text/plain": [
              "Text(0, 0.5, 'Predicted Values')"
            ]
          },
          "metadata": {
            "tags": []
          },
          "execution_count": 480
        },
        {
          "output_type": "display_data",
          "data": {
            "image/png": "[encoded data removed]",
            "text/plain": [
              "<Figure size 432x288 with 1 Axes>"
            ]
          },
          "metadata": {
            "tags": []
          }
        }
      ]
    },
    {
      "cell_type": "code",
      "metadata": {
        "id": "d1IESM5nXXI0",
        "colab_type": "code",
        "colab": {
          "base_uri": "https://localhost:8080/",
          "height": 614
        },
        "outputId": "4538174f-0aab-409f-f6c6-84b0c3c67585"
      },
      "source": [
        "#~# Insurance Dataset #~#\n",
        "\n",
        "iso = IsotonicRegression(featuresCol=\"indexedFeatures\", isotonic=True)\n",
        "\n",
        "pipeline_iso = Pipeline(stages=[featureIndexer, iso])\n",
        "model_iso = pipeline_iso.fit(trainingData_in)\n",
        "predictions_iso = model_iso.transform(testData_in)\n",
        "\n",
        "rmse_iso = evaluator.evaluate(predictions_iso)\n",
        "\n",
        "print(\"Isotonic Regression (RMSE) = %g\" % rmse_iso)\n",
        "\n",
        "predictions_iso.select(\"label\", \"prediction\").sample(False, 0.1, 123).show(10)\n",
        "\n",
        "y_true = predictions_iso.select(\"label\").toPandas()\n",
        "y_pred = predictions_iso.select(\"prediction\").toPandas()\n",
        "\n",
        "r2_score = sklearn.metrics.r2_score(y_true, y_pred)\n",
        "print('r2_score: {0}'.format(r2_score))\n",
        "\n",
        "plt.scatter(y_true, y_pred, color = 'red', s=5)\n",
        "\n",
        "plt.title(\"Isotonic_Insurance\")\n",
        "plt.xlabel(\"Actual Values\")\n",
        "plt.ylabel(\"Predicted Values\")"
      ],
      "execution_count": 481,
      "outputs": [
        {
          "output_type": "stream",
          "text": [
            "Isotonic Regression (RMSE) = 11365.2\n",
            "+----------+------------------+\n",
            "|     label|        prediction|\n",
            "+----------+------------------+\n",
            "|2207.69745|         2304.0022|\n",
            "|33307.5508|10536.250207041421|\n",
            "|  1875.344|10536.250207041421|\n",
            "| 2639.0429|10536.250207041421|\n",
            "|2395.17155|10536.250207041421|\n",
            "| 1986.9334|10536.250207041421|\n",
            "|  3208.787|10536.250207041421|\n",
            "|  2974.126|10605.687525357143|\n",
            "|39611.7577|10605.687525357143|\n",
            "| 5428.7277|10605.687525357143|\n",
            "+----------+------------------+\n",
            "only showing top 10 rows\n",
            "\n",
            "r2_score: 0.09960112531601384\n"
          ],
          "name": "stdout"
        },
        {
          "output_type": "execute_result",
          "data": {
            "text/plain": [
              "Text(0, 0.5, 'Predicted Values')"
            ]
          },
          "metadata": {
            "tags": []
          },
          "execution_count": 481
        },
        {
          "output_type": "display_data",
          "data": {
            "image/png": "[encoded data removed]",
            "text/plain": [
              "<Figure size 432x288 with 1 Axes>"
            ]
          },
          "metadata": {
            "tags": []
          }
        }
      ]
    },
    {
      "cell_type": "code",
      "metadata": {
        "id": "7AAxyqkbXet-",
        "colab_type": "code",
        "colab": {}
      },
      "source": [
        "#~# Insurance Dataset #~# #~# Insurance Dataset #~# #~# Insurance Dataset #~# #~# Insurance Dataset #~# #~# Insurance Dataset #~#"
      ],
      "execution_count": 0,
      "outputs": []
    },
    {
      "cell_type": "code",
      "metadata": {
        "id": "GP1fpqhmQ3X5",
        "colab_type": "code",
        "colab": {}
      },
      "source": [
        "#######################################################################################################"
      ],
      "execution_count": 0,
      "outputs": []
    },
    {
      "cell_type": "code",
      "metadata": {
        "id": "_0BhGty5r2kR",
        "colab_type": "code",
        "outputId": "04e02ccf-0a6e-41ca-a005-bc0fc352a5f2",
        "colab": {
          "base_uri": "https://localhost:8080/",
          "height": 279
        }
      },
      "source": [
        "#drop_list = ['region', 'children', 'sex', 'smoker', 'bmi']\n",
        "\n",
        "data_csv = data_csv.select([column for column in data_csv.columns if column not in drop_list])\n",
        "data_csv.show(5)"
      ],
      "execution_count": 164,
      "outputs": [
        {
          "output_type": "error",
          "ename": "NameError",
          "evalue": "ignored",
          "traceback": [
            "\u001b[0;31m---------------------------------------------------------------------------\u001b[0m",
            "\u001b[0;31mNameError\u001b[0m                                 Traceback (most recent call last)",
            "\u001b[0;32m<ipython-input-164-86aeca87f6f6>\u001b[0m in \u001b[0;36m<module>\u001b[0;34m()\u001b[0m\n\u001b[1;32m      1\u001b[0m \u001b[0;34m\u001b[0m\u001b[0m\n\u001b[0;32m----> 2\u001b[0;31m \u001b[0mdata_csv\u001b[0m \u001b[0;34m=\u001b[0m \u001b[0mdata_csv\u001b[0m\u001b[0;34m.\u001b[0m\u001b[0mselect\u001b[0m\u001b[0;34m(\u001b[0m\u001b[0;34m[\u001b[0m\u001b[0mcolumn\u001b[0m \u001b[0;32mfor\u001b[0m \u001b[0mcolumn\u001b[0m \u001b[0;32min\u001b[0m \u001b[0mdata_csv\u001b[0m\u001b[0;34m.\u001b[0m\u001b[0mcolumns\u001b[0m \u001b[0;32mif\u001b[0m \u001b[0mcolumn\u001b[0m \u001b[0;32mnot\u001b[0m \u001b[0;32min\u001b[0m \u001b[0mdrop_list\u001b[0m\u001b[0;34m]\u001b[0m\u001b[0;34m)\u001b[0m\u001b[0;34m\u001b[0m\u001b[0;34m\u001b[0m\u001b[0m\n\u001b[0m\u001b[1;32m      3\u001b[0m \u001b[0mdata_csv\u001b[0m\u001b[0;34m.\u001b[0m\u001b[0mshow\u001b[0m\u001b[0;34m(\u001b[0m\u001b[0;36m5\u001b[0m\u001b[0;34m)\u001b[0m\u001b[0;34m\u001b[0m\u001b[0;34m\u001b[0m\u001b[0m\n",
            "\u001b[0;32m<ipython-input-164-86aeca87f6f6>\u001b[0m in \u001b[0;36m<listcomp>\u001b[0;34m(.0)\u001b[0m\n\u001b[1;32m      1\u001b[0m \u001b[0;34m\u001b[0m\u001b[0m\n\u001b[0;32m----> 2\u001b[0;31m \u001b[0mdata_csv\u001b[0m \u001b[0;34m=\u001b[0m \u001b[0mdata_csv\u001b[0m\u001b[0;34m.\u001b[0m\u001b[0mselect\u001b[0m\u001b[0;34m(\u001b[0m\u001b[0;34m[\u001b[0m\u001b[0mcolumn\u001b[0m \u001b[0;32mfor\u001b[0m \u001b[0mcolumn\u001b[0m \u001b[0;32min\u001b[0m \u001b[0mdata_csv\u001b[0m\u001b[0;34m.\u001b[0m\u001b[0mcolumns\u001b[0m \u001b[0;32mif\u001b[0m \u001b[0mcolumn\u001b[0m \u001b[0;32mnot\u001b[0m \u001b[0;32min\u001b[0m \u001b[0mdrop_list\u001b[0m\u001b[0;34m]\u001b[0m\u001b[0;34m)\u001b[0m\u001b[0;34m\u001b[0m\u001b[0;34m\u001b[0m\u001b[0m\n\u001b[0m\u001b[1;32m      3\u001b[0m \u001b[0mdata_csv\u001b[0m\u001b[0;34m.\u001b[0m\u001b[0mshow\u001b[0m\u001b[0;34m(\u001b[0m\u001b[0;36m5\u001b[0m\u001b[0;34m)\u001b[0m\u001b[0;34m\u001b[0m\u001b[0;34m\u001b[0m\u001b[0m\n",
            "\u001b[0;31mNameError\u001b[0m: name 'drop_list' is not defined"
          ]
        }
      ]
    },
    {
      "cell_type": "code",
      "metadata": {
        "id": "EXS8GvnReB_d",
        "colab_type": "code",
        "outputId": "9f22dd21-ddd1-495c-fc48-b2b8cb3ee3bb",
        "colab": {
          "base_uri": "https://localhost:8080/",
          "height": 229
        }
      },
      "source": [
        "import matplotlib.pyplot as plt\n",
        "import pandas as pd\n",
        "from sklearn.model_selection import train_test_split\n",
        "from sklearn.tree import DecisionTreeRegressor\n",
        "\n",
        "abalone=pd.read_csv(\"/content/sample_data/Advertising.csv\")\n",
        "abalone_data.columns= [\"TV\", \"Radio\", \"Newspaper\", \"Sales\"]\n",
        "#abalone.columns=[\"\"Sex\",\"Length\",\"Diameter\",\"Height\",\"Whole weight\",\"Shucked weight\",\"Viscera weight\",\"Shell weight\",\"Rings\"\"]\n",
        "aba_y = pd.DataFrame(abalone.Sales)\n",
        "aba_x =pd.DataFrame(abalone[\"TV\"])\n",
        "\n",
        "abax_train, abax_test, abay_train, abay_test = train_test_split(aba_x, aba_y, \n",
        "                                                   test_size=0.3, \n",
        "                                                   random_state=42)\n",
        "dt = DecisionTreeRegressor()\n",
        "fit = dt.fit(abax_train,abay_train)\n",
        "\n",
        "pred = dt.predict(abax_test)\n",
        "plt.scatter(abay_test, pred)\n",
        "plt.xlabel(\"True Values\")\n",
        "plt.ylabel(\"Predictions\")"
      ],
      "execution_count": 0,
      "outputs": [
        {
          "output_type": "error",
          "ename": "AttributeError",
          "evalue": "ignored",
          "traceback": [
            "\u001b[0;31m---------------------------------------------------------------------------\u001b[0m",
            "\u001b[0;31mAttributeError\u001b[0m                            Traceback (most recent call last)",
            "\u001b[0;32m<ipython-input-162-06f323dc1725>\u001b[0m in \u001b[0;36m<module>\u001b[0;34m()\u001b[0m\n\u001b[1;32m      5\u001b[0m \u001b[0;34m\u001b[0m\u001b[0m\n\u001b[1;32m      6\u001b[0m \u001b[0mabalone\u001b[0m\u001b[0;34m=\u001b[0m\u001b[0mpd\u001b[0m\u001b[0;34m.\u001b[0m\u001b[0mread_csv\u001b[0m\u001b[0;34m(\u001b[0m\u001b[0;34m\"/content/sample_data/Advertising.csv\"\u001b[0m\u001b[0;34m)\u001b[0m\u001b[0;34m\u001b[0m\u001b[0;34m\u001b[0m\u001b[0m\n\u001b[0;32m----> 7\u001b[0;31m \u001b[0mabalone_data\u001b[0m\u001b[0;34m.\u001b[0m\u001b[0mcolumns\u001b[0m\u001b[0;34m=\u001b[0m \u001b[0;34m[\u001b[0m\u001b[0;34m\"TV\"\u001b[0m\u001b[0;34m,\u001b[0m \u001b[0;34m\"Radio\"\u001b[0m\u001b[0;34m,\u001b[0m \u001b[0;34m\"Newspaper\"\u001b[0m\u001b[0;34m,\u001b[0m \u001b[0;34m\"Sales\"\u001b[0m\u001b[0;34m]\u001b[0m\u001b[0;34m\u001b[0m\u001b[0;34m\u001b[0m\u001b[0m\n\u001b[0m\u001b[1;32m      8\u001b[0m \u001b[0;31m#abalone.columns=[\"\"Sex\",\"Length\",\"Diameter\",\"Height\",\"Whole weight\",\"Shucked weight\",\"Viscera weight\",\"Shell weight\",\"Rings\"\"]\u001b[0m\u001b[0;34m\u001b[0m\u001b[0;34m\u001b[0m\u001b[0;34m\u001b[0m\u001b[0m\n\u001b[1;32m      9\u001b[0m \u001b[0maba_y\u001b[0m \u001b[0;34m=\u001b[0m \u001b[0mpd\u001b[0m\u001b[0;34m.\u001b[0m\u001b[0mDataFrame\u001b[0m\u001b[0;34m(\u001b[0m\u001b[0mabalone\u001b[0m\u001b[0;34m.\u001b[0m\u001b[0mSales\u001b[0m\u001b[0;34m)\u001b[0m\u001b[0;34m\u001b[0m\u001b[0;34m\u001b[0m\u001b[0m\n",
            "\u001b[0;31mAttributeError\u001b[0m: can't set attribute"
          ]
        }
      ]
    },
    {
      "cell_type": "code",
      "metadata": {
        "id": "_efyjjzC1PJ_",
        "colab_type": "code",
        "colab": {}
      },
      "source": [
        ""
      ],
      "execution_count": 0,
      "outputs": []
    }
  ]
}