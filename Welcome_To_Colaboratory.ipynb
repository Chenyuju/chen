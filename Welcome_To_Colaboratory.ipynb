{
  "nbformat": 4,
  "nbformat_minor": 0,
  "metadata": {
    "colab": {
      "name": "Welcome To Colaboratory",
      "provenance": [],
      "collapsed_sections": [],
      "toc_visible": true,
      "include_colab_link": true
    },
    "kernelspec": {
      "display_name": "Python 3",
      "name": "python3"
    }
  },
  "cells": [
    {
      "cell_type": "markdown",
      "metadata": {
        "id": "view-in-github",
        "colab_type": "text"
      },
      "source": [
        "<a href=\"https://colab.research.google.com/github/Chenyuju/chen/blob/master/Welcome_To_Colaboratory.ipynb\" target=\"_parent\"><img src=\"https://colab.research.google.com/assets/colab-badge.svg\" alt=\"Open In Colab\"/></a>"
      ]
    },
    {
      "cell_type": "code",
      "metadata": {
        "id": "_mUR0IrOpcok",
        "colab_type": "code",
        "colab": {}
      },
      "source": [
        "from sklearn.feature_extraction.text import TfidfVectorizer\n",
        "from sklearn.cluster import KMeans\n",
        "import numpy as np\n",
        "import pandas as pd"
      ],
      "execution_count": 0,
      "outputs": []
    },
    {
      "cell_type": "code",
      "metadata": {
        "id": "qSncfmlhpgJg",
        "colab_type": "code",
        "colab": {}
      },
      "source": [
        "document = [\"This is the most beautiful place in the world.\", \n",
        "            \"This man has more skills to show in cricket than any other game.\", \n",
        "            \"Hi there! how was your ladakh trip last month?\", \n",
        "            \"There was a player who had scored 200+ runs in single cricket innings in his career.\", \n",
        "            \"I have got the opportunity to travel to Paris next year for my internship.\", \n",
        "            \"May be he is better than you in batting but you are much better than him in bowling.\", \n",
        "            \"That was really a great day for me when I was there at Lavasa for the whole night.\", \n",
        "            \"That’s exactly I wanted to become, a highest ratting batsmen ever with top scores.\", \n",
        "            \"Does it really matter wether you go to Thailand or Goa, its just you have spend your holidays.\", \n",
        "            \"Why don’t you go to Switzerland next year for your 25th Wedding anniversary?\", \n",
        "            \"Travel is fatal to prejudice, bigotry, and narrow mindedness., and many of our people need it sorely on these accounts.\", \n",
        "            \"Stop worrying about the potholes in the road and enjoy the journey.\", \n",
        "            \"No cricket team in the world depends on one or two players. The team always plays to win.\", \n",
        "            \"Cricket is a team game. If you want fame for yourself, go play an individual game.\", \n",
        "            \"Because in the end, you won’t remember the time you spent working in the office or mowing your lawn. Climb that goddamn mountain.\", \n",
        "            \"Isn’t cricket supposed to be a team sport? I feel people should decide first whether cricket is a team game or an individual sport.\"]"
      ],
      "execution_count": 0,
      "outputs": []
    },
    {
      "cell_type": "code",
      "metadata": {
        "id": "A36Cy8Chph3v",
        "colab_type": "code",
        "colab": {}
      },
      "source": [
        "vectorizer = TfidfVectorizer(stop_words='english')\n",
        "X = vectorizer.fit_transform(document)"
      ],
      "execution_count": 0,
      "outputs": []
    },
    {
      "cell_type": "code",
      "metadata": {
        "id": "iWgDI4gYqjBx",
        "colab_type": "code",
        "colab": {
          "base_uri": "https://localhost:8080/",
          "height": 67
        },
        "outputId": "953e3071-61cc-4d6a-bbe5-61f939c7609d"
      },
      "source": [
        "true_k = 2\n",
        "model = KMeans(n_clusters=true_k, init='k-means++', max_iter=100, n_init=1)\n",
        "model.fit(X)"
      ],
      "execution_count": 5,
      "outputs": [
        {
          "output_type": "execute_result",
          "data": {
            "text/plain": [
              "KMeans(algorithm='auto', copy_x=True, init='k-means++', max_iter=100,\n",
              "       n_clusters=2, n_init=1, n_jobs=None, precompute_distances='auto',\n",
              "       random_state=None, tol=0.0001, verbose=0)"
            ]
          },
          "metadata": {
            "tags": []
          },
          "execution_count": 5
        }
      ]
    },
    {
      "cell_type": "code",
      "metadata": {
        "id": "DzvX7_YAqknQ",
        "colab_type": "code",
        "colab": {}
      },
      "source": [
        "order_centroids = model.cluster_centers_.argsort()[:, ::-1]\n",
        "terms = vectorizer.get_feature_names()"
      ],
      "execution_count": 0,
      "outputs": []
    },
    {
      "cell_type": "code",
      "metadata": {
        "id": "2Xh_C2_dqnJX",
        "colab_type": "code",
        "colab": {
          "base_uri": "https://localhost:8080/",
          "height": 403
        },
        "outputId": "5c8caa71-14f0-41fa-e42a-8c22a090eaac"
      },
      "source": [
        "for i in range(true_k):\n",
        " print(\"Cluster %d:\" % i),\n",
        " for ind in order_centroids[i, :10]:\n",
        "   print(' %s' % terms[ind])"
      ],
      "execution_count": 7,
      "outputs": [
        {
          "output_type": "stream",
          "text": [
            "Cluster 0:\n",
            " cricket\n",
            " team\n",
            " game\n",
            " world\n",
            " better\n",
            " year\n",
            " travel\n",
            " place\n",
            " beautiful\n",
            " man\n",
            "Cluster 1:\n",
            " really\n",
            " day\n",
            " lavasa\n",
            " night\n",
            " great\n",
            " thailand\n",
            " matter\n",
            " just\n",
            " wether\n",
            " goa\n",
            "ERROR! Session/line number was not unique in database. History logging moved to new session 61\n"
          ],
          "name": "stdout"
        }
      ]
    },
    {
      "cell_type": "code",
      "metadata": {
        "id": "hLLcrYWvqrNo",
        "colab_type": "code",
        "colab": {
          "base_uri": "https://localhost:8080/",
          "height": 50
        },
        "outputId": "27735564-b9ab-4b16-c0a7-7b3e500f5ba4"
      },
      "source": [
        "print(\"Prediction\")\n",
        "X = vectorizer.transform([\"Nothing is easy in cricket. Maybe when you watch it on TV, it looks easy. But it is not. You have to use your brain and time the ball.\"])\n",
        "predicted = model.predict(X)\n",
        "print(predicted)"
      ],
      "execution_count": 9,
      "outputs": [
        {
          "output_type": "stream",
          "text": [
            "Prediction\n",
            "[0]\n"
          ],
          "name": "stdout"
        }
      ]
    },
    {
      "cell_type": "code",
      "metadata": {
        "id": "_W_dlw6urE8E",
        "colab_type": "code",
        "colab": {}
      },
      "source": [
        ""
      ],
      "execution_count": 0,
      "outputs": []
    }
  ]
}