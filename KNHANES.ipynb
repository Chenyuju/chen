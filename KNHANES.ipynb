{
  "nbformat": 4,
  "nbformat_minor": 0,
  "metadata": {
    "colab": {
      "name": "KNHANES",
      "provenance": [],
      "collapsed_sections": [],
      "authorship_tag": "ABX9TyMqd/lblFfy6AWaVZUZZdRq",
      "include_colab_link": true
    },
    "kernelspec": {
      "name": "python3",
      "display_name": "Python 3"
    },
    "accelerator": "TPU"
  },
  "cells": [
    {
      "cell_type": "markdown",
      "metadata": {
        "id": "view-in-github",
        "colab_type": "text"
      },
      "source": [
        "<a href=\"https://colab.research.google.com/github/Chenyuju/chen/blob/master/KNHANES.ipynb\" target=\"_parent\"><img src=\"https://colab.research.google.com/assets/colab-badge.svg\" alt=\"Open In Colab\"/></a>"
      ]
    },
    {
      "cell_type": "code",
      "metadata": {
        "id": "ZbsolJnudGMO",
        "colab_type": "code",
        "colab": {}
      },
      "source": [
        "import pandas as pd\n",
        "import numpy as np\n",
        "import matplotlib.pyplot as plt\n",
        "import seaborn as sns"
      ],
      "execution_count": null,
      "outputs": []
    },
    {
      "cell_type": "code",
      "metadata": {
        "id": "6zWnQtQzTHdi",
        "colab_type": "code",
        "colab": {}
      },
      "source": [
        "!pip install pyspark"
      ],
      "execution_count": null,
      "outputs": []
    },
    {
      "cell_type": "code",
      "metadata": {
        "id": "qeURP7sBNQXe",
        "colab_type": "code",
        "colab": {}
      },
      "source": [
        "from pyspark.sql import SparkSession\n",
        "\n",
        "spark = SparkSession.builder.master(\"local[*]\").getOrCreate()\n",
        "sc = spark.sparkContext"
      ],
      "execution_count": null,
      "outputs": []
    },
    {
      "cell_type": "code",
      "metadata": {
        "id": "ine3Kry8hzjs",
        "colab_type": "code",
        "colab": {}
      },
      "source": [
        "hn16_all = spark.read.format('com.databricks.spark.csv').options(header='true', inferschema='true').load(\"/content/sample_data/hn16_base.csv\",header=True);\n",
        "\n",
        "hn16_all.show()"
      ],
      "execution_count": null,
      "outputs": []
    },
    {
      "cell_type": "code",
      "metadata": {
        "id": "6HKTlFx7cDA2",
        "colab_type": "code",
        "colab": {}
      },
      "source": [
        "hn16_all.columns"
      ],
      "execution_count": null,
      "outputs": []
    },
    {
      "cell_type": "code",
      "metadata": {
        "id": "NZY1hi1pZ-jh",
        "colab_type": "code",
        "colab": {}
      },
      "source": [
        "from pyspark.sql.functions import isnan, isnull, when, count, col\n",
        "\n",
        "hn16_all.select([count(when(isnull(c), c)).alias(c) for c in hn16_all.columns]).show()"
      ],
      "execution_count": null,
      "outputs": []
    },
    {
      "cell_type": "code",
      "metadata": {
        "id": "N56ojDoQYomc",
        "colab_type": "code",
        "colab": {}
      },
      "source": [
        "data = pd.read_csv('/content/sample_data/hn16_base.csv')\n",
        "print(data.head(7))"
      ],
      "execution_count": null,
      "outputs": []
    },
    {
      "cell_type": "code",
      "metadata": {
        "id": "PsLn3R_3JJ7U",
        "colab_type": "code",
        "colab": {}
      },
      "source": [
        "def msv1(data, thresh=20, color='black', edgecolor='black', width=15, height=3):\n",
        "    plt.figure(figsize=(width,height))\n",
        "    percentage=(data.isnull().mean())*100\n",
        "    percentage.sort_values(ascending=False).plot.bar(color=color, edgecolor=edgecolor)\n",
        "    plt.axhline(y=thresh, color='r', linestyle='-')\n",
        "    plt.title('Missing values percentage per column', fontsize=10)\n",
        "    plt.text(len(data.isnull().sum()/len(data))/1.7, thresh+12.5, 'Columns with more than %s%s missing values' %(thresh, '%'), fontsize=12,weight='bold', color='crimson',\n",
        "         ha='left' ,va='top')\n",
        "    plt.text(len(data.isnull().sum()/len(data))/1.7, thresh - 5, 'Columns with less than %s%s missing values' %(thresh, '%'), fontsize=12,weight='bold', color='blue',\n",
        "         ha='left' ,va='top')\n",
        "    plt.xlabel('Columns', size=15)\n",
        "    plt.ylabel('Missing values percentage')\n",
        "\n",
        "    return plt.show()"
      ],
      "execution_count": null,
      "outputs": []
    },
    {
      "cell_type": "code",
      "metadata": {
        "id": "XxL597IOYMnK",
        "colab_type": "code",
        "colab": {}
      },
      "source": [
        "msv1(data, 30, color=('silver', 'gainsboro', 'lightgreen', 'white', 'lightpink'))"
      ],
      "execution_count": null,
      "outputs": []
    },
    {
      "cell_type": "code",
      "metadata": {
        "id": "wYT1T-rp97xI",
        "colab_type": "code",
        "colab": {}
      },
      "source": [
        "percentage=(data.isnull().mean())*100\n",
        "pd.set_option(\"max_rows\", None)\n",
        "percentage.sort_values(ascending=False)"
      ],
      "execution_count": null,
      "outputs": []
    },
    {
      "cell_type": "code",
      "metadata": {
        "id": "SHKvXCbdaDQm",
        "colab_type": "code",
        "colab": {}
      },
      "source": [
        "df=data.dropna(thresh=2445, axis=1)\n",
        "print(f\"Data shape before cleaning {data.shape}\")\n",
        "print(f\"Data shape after cleaning {df.shape}\")\n",
        "print(f\"We dropped {data.shape[1]- df.shape[1]} columns\")"
      ],
      "execution_count": null,
      "outputs": []
    },
    {
      "cell_type": "code",
      "metadata": {
        "id": "yoRZTnmEHhNe",
        "colab_type": "code",
        "colab": {}
      },
      "source": [
        "percentage=(df.isnull().mean())*100\n",
        "pd.set_option(\"max_rows\", None)\n",
        "percentage.sort_values(ascending=False)"
      ],
      "execution_count": null,
      "outputs": []
    },
    {
      "cell_type": "code",
      "metadata": {
        "id": "1p_9sdY55LbM",
        "colab_type": "code",
        "colab": {}
      },
      "source": [
        "df['N_EN'].count()"
      ],
      "execution_count": null,
      "outputs": []
    },
    {
      "cell_type": "code",
      "metadata": {
        "id": "1hlWNf7315Tu",
        "colab_type": "code",
        "colab": {}
      },
      "source": [
        "lst_12 = [1, 2]\n",
        "for i in range((df['N_EN']).count()):\n",
        "  if ((df['age'] == 1) | (df['age'] == 2)).all():\n",
        "    df['diff_EN'] = np.where(df['N_EN'] == 1000, 0, df['N_EN'] - 1000)\n",
        "  elif ((df['age'] == 3) | (df['age'] == 4) | (df['age'] == 5)).all():\n",
        "    df['diff_EN'] = np.where(df['N_EN'] == 1400, 0, df['N_EN'] - 1400)\n",
        "  elif ((df['sex'] == 1).all()) & ((df['age'] >= 6) & (df['age'] <=8)).any():\n",
        "    df['diff_EN'] = np.where(df['N_EN'] == 1700, 0, df['N_EN'] - 1700)\n",
        "  elif (df['sex'] == '1').all() & (df['age'] >= 9).any() & (df['age'] <=11).any():\n",
        "    df['diff_EN'] = np.where(df['N_EN'] == 2100, 0, df['N_EN'] - 2100)\n",
        "  elif (df['sex'] == '1').all() & (df['age'] >= 12).any() & (df['age'] <=14).any():\n",
        "    df['diff_EN'] = np.where(df['N_EN'] == 2500, 0, df['N_EN'] - 2500)\n",
        "  elif (df['sex'] == '1').all() & (df['age'] >= 15).any() & (df['age'] <=18).any():\n",
        "    df['diff_EN'] = np.where(df['N_EN'] == 2700, 0, df['N_EN'] - 2700)\n",
        "  elif (df['sex'] == '1').all() & (df['age'] >= 19).any() & (df['age'] <=29).any():\n",
        "    df['diff_EN'] = np.where(df['N_EN'] == 2600, 0, df['N_EN'] - 2600)\n",
        "  elif (df['sex'] == '1').all() & (df['age'] >= 30).any() & (df['age'] <=49).any():\n",
        "    df['diff_EN'] = np.where(df['N_EN'] == 2400, 0, df['N_EN'] - 2400)\n",
        "  elif (df['sex'] == '1').all() & (df['age'] >= 50).any() & (df['age'] <=64).any():\n",
        "    df['diff_EN'] = np.where(df['N_EN'] == 2200, 0, df['N_EN'] - 2200)\n",
        "  elif (df['sex'] == '1').all() & (df['age'] >= 65).any() & (df['age'] <=74).any():\n",
        "    df['diff_EN'] = np.where(df['N_EN'] == 2000, 0, df['N_EN'] - 2000)\n",
        "  elif (df['sex'] == '1').all() & (df['age'] >= 75).any():\n",
        "    df['diff_EN'] = np.where(df['N_EN'] == 2000, 0, df['N_EN'] - 2000)\n",
        "  else:\n",
        "    df['diff_EN'] = df['N_EN'].copy()\n",
        "\n",
        "print(df[['age', 'sex', 'N_EN', 'diff_EN']])"
      ],
      "execution_count": null,
      "outputs": []
    },
    {
      "cell_type": "code",
      "metadata": {
        "id": "xP22hLL1TfSu",
        "colab_type": "code",
        "colab": {}
      },
      "source": [
        "low_limit = pd.Series([1, 3, 6, 9, 12, 15, 19, 30, 50, 65, 75, np.nan], index=df)\n",
        "high_limit = pd.Series([2, 5, 8, 11, 14, 18, 29, 49, 64, 74, 120], index=df['age'])"
      ],
      "execution_count": null,
      "outputs": []
    },
    {
      "cell_type": "code",
      "metadata": {
        "id": "r9jZot75bCX9",
        "colab_type": "code",
        "colab": {}
      },
      "source": [
        "SN = ((df < high_limit) & (df > low_limit)).all(axis=1)"
      ],
      "execution_count": null,
      "outputs": []
    },
    {
      "cell_type": "code",
      "metadata": {
        "id": "EDbuPetOwCQk",
        "colab_type": "code",
        "colab": {}
      },
      "source": [
        "age_12 = ['1', '2']\n",
        "for i in range((df['N_EN']).count()):\n",
        "  if df.loc[df['age'].isin(age_12)].any():\n",
        "    df['diff_EN'] = 'aaaaaaa'"
      ],
      "execution_count": null,
      "outputs": []
    },
    {
      "cell_type": "code",
      "metadata": {
        "id": "fBroQdmvyrNc",
        "colab_type": "code",
        "colab": {}
      },
      "source": [
        "# --- 나이와 성별에 대한 14 가지의 표준영양소값 구하기 ---"
      ],
      "execution_count": null,
      "outputs": []
    },
    {
      "cell_type": "code",
      "metadata": {
        "id": "90fAxiBrhOG-",
        "colab_type": "code",
        "colab": {}
      },
      "source": [
        "def standard_EN(series):\n",
        "    age = series[\"age\"]\n",
        "    sex = series[\"sex\"]\n",
        "\n",
        "    if ((age >= 1) & (age < 3)):\n",
        "        return 1000\n",
        "    elif ((age >= 3) & (age < 6)):\n",
        "        return 1400\n",
        "    elif (sex == 1):\n",
        "        if ((age >= 6) & (age < 9)):\n",
        "            return 1700\n",
        "        elif ((age >= 9) & (age < 12)):\n",
        "            return 2100\n",
        "        elif ((age >= 12) & (age < 15)):\n",
        "            return 2500\n",
        "        elif ((age >= 15) & (age < 19)):\n",
        "            return 2700\n",
        "        elif ((age >= 19) & (age < 30)):\n",
        "            return 2600\n",
        "        elif ((age >= 30) & (age < 40)):\n",
        "            return 2400\n",
        "        elif ((age >= 40) & (age < 65)):\n",
        "            return 2200\n",
        "        elif ((age >= 65) & (age < 75)):\n",
        "            return 2000\n",
        "        elif (age >= 75):\n",
        "            return 2000\n",
        "    elif (sex == 2):\n",
        "        if ((age >= 6) & (age < 9)):\n",
        "            return 1500\n",
        "        elif ((age >= 9) & (age < 12)):\n",
        "            return 1800\n",
        "        elif ((age >= 12) & (age < 15)):\n",
        "            return 2000\n",
        "        elif ((age >= 15) & (age < 19)):\n",
        "            return 2100\n",
        "        elif ((age >= 19) & (age < 30)):\n",
        "            return 1900\n",
        "        elif ((age >= 30) & (age < 40)):\n",
        "            return 1800\n",
        "        elif ((age >= 40) & (age < 65)):\n",
        "            return 1600\n",
        "        elif ((age >= 65) & (age < 75)):\n",
        "            return 2000\n",
        "        elif (age >= 75):\n",
        "            return 1600\n",
        "    else:\n",
        "      return 0"
      ],
      "execution_count": null,
      "outputs": []
    },
    {
      "cell_type": "code",
      "metadata": {
        "id": "SoHplcvA7iWr",
        "colab_type": "code",
        "colab": {}
      },
      "source": [
        "df['SN_EN'] = df.apply(standard_EN, axis=1)"
      ],
      "execution_count": null,
      "outputs": []
    },
    {
      "cell_type": "code",
      "metadata": {
        "id": "Mq_0ayMsBhwl",
        "colab_type": "code",
        "colab": {}
      },
      "source": [
        "def standard_PROT(series):\n",
        "    age = series[\"age\"]\n",
        "    sex = series[\"sex\"]\n",
        "\n",
        "    if ((age >= 1) & (age < 3)):\n",
        "        return 15\n",
        "    elif ((age >= 3) & (age < 6)):\n",
        "        return 20\n",
        "    elif (sex == 1):\n",
        "        if ((age >= 6) & (age < 9)):\n",
        "            return 30\n",
        "        elif ((age >= 9) & (age < 12)):\n",
        "            return 40\n",
        "        elif ((age >= 12) & (age < 15)):\n",
        "            return 55\n",
        "        elif ((age >= 15) & (age < 19)):\n",
        "            return 65\n",
        "        elif ((age >= 19) & (age < 30)):\n",
        "            return 65\n",
        "        elif ((age >= 30) & (age < 40)):\n",
        "            return 60\n",
        "        elif ((age >= 40) & (age < 65)):\n",
        "            return 60\n",
        "        elif ((age >= 65) & (age < 75)):\n",
        "            return 55\n",
        "        elif (age >= 75):\n",
        "            return 55\n",
        "    elif (sex == 2):\n",
        "        if ((age >= 6) & (age < 9)):\n",
        "            return 25\n",
        "        elif ((age >= 9) & (age < 12)):\n",
        "            return 40\n",
        "        elif ((age >= 12) & (age < 15)):\n",
        "            return 50\n",
        "        elif ((age >= 15) & (age < 19)):\n",
        "            return 50\n",
        "        elif ((age >= 19) & (age < 30)):\n",
        "            return 55\n",
        "        elif ((age >= 30) & (age < 40)):\n",
        "            return 50\n",
        "        elif ((age >= 40) & (age < 65)):\n",
        "            return 50\n",
        "        elif ((age >= 65) & (age < 75)):\n",
        "            return 45\n",
        "        elif (age >= 75):\n",
        "            return 45\n",
        "    else:\n",
        "      return 0"
      ],
      "execution_count": null,
      "outputs": []
    },
    {
      "cell_type": "code",
      "metadata": {
        "id": "hYqwCwNWCd_s",
        "colab_type": "code",
        "colab": {}
      },
      "source": [
        "df['SN_PROT'] = df.apply(standard_PROT, axis=1)"
      ],
      "execution_count": null,
      "outputs": []
    },
    {
      "cell_type": "code",
      "metadata": {
        "id": "LlGh3yCp8DsN",
        "colab_type": "code",
        "colab": {}
      },
      "source": [
        "def standard_TDF(series):\n",
        "    age = series[\"age\"]\n",
        "    sex = series[\"sex\"]\n",
        "\n",
        "    if ((age >= 1) & (age < 3)):\n",
        "        return 10\n",
        "    elif ((age >= 3) & (age < 6)):\n",
        "        return 15\n",
        "    elif (sex == 1):\n",
        "        if ((age >= 6) & (age < 9)):\n",
        "            return 20\n",
        "        elif ((age >= 9) & (age < 12)):\n",
        "            return 20\n",
        "        elif ((age >= 12) & (age < 75)):\n",
        "            return 25\n",
        "        elif (age >= 75):\n",
        "            return 55\n",
        "    elif (sex == 2):\n",
        "        if ((age >= 6) & (age < 75)):\n",
        "            return 20\n",
        "        elif (age >= 75):\n",
        "            return 20\n",
        "    else:\n",
        "      return 0"
      ],
      "execution_count": null,
      "outputs": []
    },
    {
      "cell_type": "code",
      "metadata": {
        "id": "X1i0m11REiom",
        "colab_type": "code",
        "colab": {}
      },
      "source": [
        "df['SN_TDF'] = df.apply(standard_TDF, axis=1)"
      ],
      "execution_count": null,
      "outputs": []
    },
    {
      "cell_type": "code",
      "metadata": {
        "id": "vulwVpz0E3Rc",
        "colab_type": "code",
        "colab": {}
      },
      "source": [
        "def standard_WATER(series):\n",
        "    age = series[\"age\"]\n",
        "    sex = series[\"sex\"]\n",
        "\n",
        "    if ((age >= 1) & (age < 3)):\n",
        "        return 1100\n",
        "    elif ((age >= 3) & (age < 6)):\n",
        "        return 1500\n",
        "    elif (sex == 1):\n",
        "        if ((age >= 6) & (age < 9)):\n",
        "            return 1800\n",
        "        elif ((age >= 9) & (age < 12)):\n",
        "            return 2100\n",
        "        elif ((age >= 12) & (age < 15)):\n",
        "            return 2300\n",
        "        elif ((age >= 15) & (age < 19)):\n",
        "            return 2600\n",
        "        elif ((age >= 19) & (age < 30)):\n",
        "            return 2600\n",
        "        elif ((age >= 30) & (age < 40)):\n",
        "            return 2500\n",
        "        elif ((age >= 40) & (age < 65)):\n",
        "            return 2200\n",
        "        elif ((age >= 65) & (age < 75)):\n",
        "            return 2100\n",
        "        elif (age >= 75):\n",
        "            return 2100\n",
        "    elif (sex == 2):\n",
        "        if ((age >= 6) & (age < 9)):\n",
        "            return 1700\n",
        "        elif ((age >= 9) & (age < 12)):\n",
        "            return 1900\n",
        "        elif ((age >= 12) & (age < 19)):\n",
        "            return 2000\n",
        "        elif ((age >= 19) & (age < 30)):\n",
        "            return 2100\n",
        "        elif ((age >= 30) & (age < 40)):\n",
        "            return 2000\n",
        "        elif ((age >= 40) & (age < 65)):\n",
        "            return 1900\n",
        "        elif ((age >= 65) & (age < 75)):\n",
        "            return 1800\n",
        "        elif (age >= 75):\n",
        "            return 1800\n",
        "    else:\n",
        "      return 0"
      ],
      "execution_count": null,
      "outputs": []
    },
    {
      "cell_type": "code",
      "metadata": {
        "id": "DFZNvtk8E3cu",
        "colab_type": "code",
        "colab": {}
      },
      "source": [
        "df['SN_WATER'] = df.apply(standard_WATER, axis=1)"
      ],
      "execution_count": null,
      "outputs": []
    },
    {
      "cell_type": "code",
      "metadata": {
        "id": "RgFzZ3qCE30i",
        "colab_type": "code",
        "colab": {}
      },
      "source": [
        "def standard_VITC(series):\n",
        "    age = series[\"age\"]\n",
        "    sex = series[\"sex\"]\n",
        "\n",
        "    if ((age >= 1) & (age < 3)):\n",
        "        return 35\n",
        "    elif ((age >= 3) & (age < 6)):\n",
        "        return 40\n",
        "    elif (sex == 1):\n",
        "        if ((age >= 6) & (age < 9)):\n",
        "            return 55\n",
        "        elif ((age >= 9) & (age < 12)):\n",
        "            return 70\n",
        "        elif ((age >= 12) & (age < 15)):\n",
        "            return 90\n",
        "        elif ((age >= 15) & (age < 19)):\n",
        "            return 105\n",
        "        elif ((age >= 19) & (age < 75)):\n",
        "            return 100\n",
        "        elif (age >= 75):\n",
        "            return 100\n",
        "    elif (sex == 2):\n",
        "        if ((age >= 6) & (age < 9)):\n",
        "            return 60\n",
        "        elif ((age >= 9) & (age < 12)):\n",
        "            return 80\n",
        "        elif ((age >= 12) & (age < 19)):\n",
        "            return 100\n",
        "        elif ((age >= 19) & (age < 30)):\n",
        "            return 95\n",
        "        elif ((age >= 30) & (age < 75)):\n",
        "            return 100\n",
        "        elif (age >= 75):\n",
        "            return 100\n",
        "    else:\n",
        "      return 0"
      ],
      "execution_count": null,
      "outputs": []
    },
    {
      "cell_type": "code",
      "metadata": {
        "id": "mVtIpg9RE3_t",
        "colab_type": "code",
        "colab": {}
      },
      "source": [
        "df['SN_VITC'] = df.apply(standard_VITC, axis=1)"
      ],
      "execution_count": null,
      "outputs": []
    },
    {
      "cell_type": "code",
      "metadata": {
        "id": "3v0JHPF1G3-r",
        "colab_type": "code",
        "colab": {}
      },
      "source": [
        "def standard_B1(series):\n",
        "    age = series[\"age\"]\n",
        "    sex = series[\"sex\"]\n",
        "\n",
        "    if ((age >= 1) & (age < 3)):\n",
        "        return 0.5\n",
        "    elif ((age >= 3) & (age < 6)):\n",
        "        return 0.5\n",
        "    elif (sex == 1):\n",
        "        if ((age >= 6) & (age < 9)):\n",
        "            return 0.7\n",
        "        elif ((age >= 9) & (age < 12)):\n",
        "            return 0.9\n",
        "        elif ((age >= 12) & (age < 15)):\n",
        "            return 1.1\n",
        "        elif ((age >= 15) & (age < 19)):\n",
        "            return 1.3\n",
        "        elif ((age >= 19) & (age < 75)):\n",
        "            return 1.2\n",
        "        elif (age >= 75):\n",
        "            return 1.2\n",
        "    elif (sex == 2):\n",
        "        if ((age >= 6) & (age < 9)):\n",
        "            return 0.7\n",
        "        elif ((age >= 9) & (age < 12)):\n",
        "            return 0.9\n",
        "        elif ((age >= 12) & (age < 14)):\n",
        "            return 1.1\n",
        "        elif ((age >= 15) & (age < 18)):\n",
        "            return 1.2\n",
        "        elif ((age >= 19) & (age < 75)):\n",
        "            return 1.1\n",
        "        elif (age >= 75):\n",
        "            return 1.1\n",
        "    else:\n",
        "      return 0"
      ],
      "execution_count": null,
      "outputs": []
    },
    {
      "cell_type": "code",
      "metadata": {
        "id": "4huO1zoJG4CR",
        "colab_type": "code",
        "colab": {}
      },
      "source": [
        "df['SN_B1'] = df.apply(standard_B1, axis=1)"
      ],
      "execution_count": null,
      "outputs": []
    },
    {
      "cell_type": "code",
      "metadata": {
        "id": "vbynpDP5G4Hx",
        "colab_type": "code",
        "colab": {}
      },
      "source": [
        "def standard_B2(series):\n",
        "    age = series[\"age\"]\n",
        "    sex = series[\"sex\"]\n",
        "\n",
        "    if ((age >= 1) & (age < 3)):\n",
        "        return 0.5\n",
        "    elif ((age >= 3) & (age < 6)):\n",
        "        return 0.6\n",
        "    elif (sex == 1):\n",
        "        if ((age >= 6) & (age < 9)):\n",
        "            return 0.9\n",
        "        elif ((age >= 9) & (age < 12)):\n",
        "            return 1.2\n",
        "        elif ((age >= 12) & (age < 14)):\n",
        "            return 1.5\n",
        "        elif ((age >= 15) & (age < 18)):\n",
        "            return 1.7\n",
        "        elif ((age >= 19) & (age < 75)):\n",
        "            return 1.5\n",
        "        elif (age >= 75):\n",
        "            return 1.5\n",
        "    elif (sex == 2):\n",
        "        if ((age >= 6) & (age < 9)):\n",
        "            return 0.8\n",
        "        elif ((age >= 9) & (age < 12)):\n",
        "            return 1.0\n",
        "        elif ((age >= 12) & (age < 75)):\n",
        "            return 1.2\n",
        "        elif (age >= 75):\n",
        "            return 1.2\n",
        "    else:\n",
        "      return 0"
      ],
      "execution_count": null,
      "outputs": []
    },
    {
      "cell_type": "code",
      "metadata": {
        "id": "EvqrJSJiG4Tb",
        "colab_type": "code",
        "colab": {}
      },
      "source": [
        "df['SN_B2'] = df.apply(standard_B2, axis=1)"
      ],
      "execution_count": null,
      "outputs": []
    },
    {
      "cell_type": "code",
      "metadata": {
        "id": "uQ4sBqwHG4h_",
        "colab_type": "code",
        "colab": {}
      },
      "source": [
        "def standard_NIAC(series):\n",
        "    age = series[\"age\"]\n",
        "    sex = series[\"sex\"]\n",
        "\n",
        "    if ((age >= 1) & (age < 3)):\n",
        "        return 6\n",
        "    elif ((age >= 3) & (age < 6)):\n",
        "        return 7\n",
        "    elif (sex == 1):\n",
        "        if ((age >= 6) & (age < 9)):\n",
        "            return 9\n",
        "        elif ((age >= 9) & (age < 12)):\n",
        "            return 12\n",
        "        elif ((age >= 12) & (age < 15)):\n",
        "            return 15\n",
        "        elif ((age >= 15) & (age < 19)):\n",
        "            return 17\n",
        "        elif ((age >= 19) & (age < 75)):\n",
        "            return 16\n",
        "        elif (age >= 75):\n",
        "            return 16\n",
        "    elif (sex == 2):\n",
        "        if ((age >= 6) & (age < 9)):\n",
        "            return 9\n",
        "        elif ((age >= 9) & (age < 12)):\n",
        "            return 12\n",
        "        elif ((age >= 12) & (age < 15)):\n",
        "            return 15\n",
        "        elif ((age >= 15) & (age < 75)):\n",
        "            return 14\n",
        "        elif (age >= 75):\n",
        "            return 14\n",
        "    else:\n",
        "      return 0"
      ],
      "execution_count": null,
      "outputs": []
    },
    {
      "cell_type": "code",
      "metadata": {
        "id": "UorFPJqMG35X",
        "colab_type": "code",
        "colab": {}
      },
      "source": [
        "df['SN_NIAC'] = df.apply(standard_NIAC, axis=1)"
      ],
      "execution_count": null,
      "outputs": []
    },
    {
      "cell_type": "code",
      "metadata": {
        "id": "I0bDaEs6LOwB",
        "colab_type": "code",
        "colab": {}
      },
      "source": [
        "def standard_VA_RAE(series):\n",
        "    age = series[\"age\"]\n",
        "    sex = series[\"sex\"]\n",
        "\n",
        "    if ((age >= 1) & (age < 3)):\n",
        "        return 300\n",
        "    elif ((age >= 3) & (age < 6)):\n",
        "        return 350\n",
        "    elif (sex == 1):\n",
        "        if ((age >= 6) & (age < 9)):\n",
        "            return 450\n",
        "        elif ((age >= 9) & (age < 12)):\n",
        "            return 600\n",
        "        elif ((age >= 12) & (age < 15)):\n",
        "            return 750\n",
        "        elif ((age >= 15) & (age < 19)):\n",
        "            return 850\n",
        "        elif ((age >= 19) & (age < 30)):\n",
        "            return 800\n",
        "        elif ((age >= 30) & (age < 65)):\n",
        "            return 750\n",
        "        elif ((age >= 65) & (age < 75)):\n",
        "            return 700\n",
        "        elif (age >= 75):\n",
        "            return 700\n",
        "    elif (sex == 2):\n",
        "        if ((age >= 6) & (age < 9)):\n",
        "            return 400\n",
        "        elif ((age >= 9) & (age < 12)):\n",
        "            return 550\n",
        "        elif ((age >= 12) & (age < 15)):\n",
        "            return 650\n",
        "        elif ((age >= 15) & (age < 19)):\n",
        "            return 600\n",
        "        elif ((age >= 19) & (age < 50)):\n",
        "            return 650\n",
        "        elif ((age >= 50) & (age < 65)):\n",
        "            return 600\n",
        "        elif ((age >= 65) & (age < 75)):\n",
        "            return 550\n",
        "        elif (age >= 75):\n",
        "            return 550\n",
        "    else:\n",
        "      return 0"
      ],
      "execution_count": null,
      "outputs": []
    },
    {
      "cell_type": "code",
      "metadata": {
        "id": "xw5ltI23J-Yj",
        "colab_type": "code",
        "colab": {}
      },
      "source": [
        "df['SN_VA_RAE'] = df.apply(standard_VA_RAE, axis=1)"
      ],
      "execution_count": null,
      "outputs": []
    },
    {
      "cell_type": "code",
      "metadata": {
        "id": "QNBe9CvbNxm_",
        "colab_type": "code",
        "colab": {}
      },
      "source": [
        "def standard_CA(series):\n",
        "    age = series[\"age\"]\n",
        "    sex = series[\"sex\"]\n",
        "\n",
        "    if ((age >= 1) & (age < 3)):\n",
        "        return 500\n",
        "    elif ((age >= 3) & (age < 6)):\n",
        "        return 600\n",
        "    elif (sex == 1):\n",
        "        if ((age >= 6) & (age < 9)):\n",
        "            return 700\n",
        "        elif ((age >= 9) & (age < 12)):\n",
        "            return 800\n",
        "        elif ((age >= 12) & (age < 15)):\n",
        "            return 1000\n",
        "        elif ((age >= 15) & (age < 19)):\n",
        "            return 900\n",
        "        elif ((age >= 19) & (age < 50)):\n",
        "            return 800\n",
        "        elif ((age >= 50) & (age < 65)):\n",
        "            return 750\n",
        "        elif ((age >= 65) & (age < 75)):\n",
        "            return 700\n",
        "        elif (age >= 75):\n",
        "            return 700\n",
        "    elif (sex == 2):\n",
        "        if ((age >= 6) & (age < 9)):\n",
        "            return 700\n",
        "        elif ((age >= 9) & (age < 12)):\n",
        "            return 800\n",
        "        elif ((age >= 12) & (age < 15)):\n",
        "            return 900\n",
        "        elif ((age >= 15) & (age < 19)):\n",
        "            return 800\n",
        "        elif ((age >= 19) & (age < 50)):\n",
        "            return 700\n",
        "        elif ((age >= 50) & (age < 75)):\n",
        "            return 800\n",
        "        elif (age >= 75):\n",
        "            return 800\n",
        "    else:\n",
        "      return 0"
      ],
      "execution_count": null,
      "outputs": []
    },
    {
      "cell_type": "code",
      "metadata": {
        "id": "iKFtPZO9J_Wj",
        "colab_type": "code",
        "colab": {}
      },
      "source": [
        "df['SN_CA'] = df.apply(standard_CA, axis=1)"
      ],
      "execution_count": null,
      "outputs": []
    },
    {
      "cell_type": "code",
      "metadata": {
        "id": "nN1xo7t1PIcK",
        "colab_type": "code",
        "colab": {}
      },
      "source": [
        "def standard_PHOS(series):\n",
        "    age = series[\"age\"]\n",
        "    sex = series[\"sex\"]\n",
        "\n",
        "    if ((age >= 1) & (age < 3)):\n",
        "        return 450\n",
        "    elif ((age >= 3) & (age < 6)):\n",
        "        return 550\n",
        "    elif (sex == 1):\n",
        "        if ((age >= 6) & (age < 9)):\n",
        "            return 600\n",
        "        elif ((age >= 9) & (age < 19)):\n",
        "            return 1200\n",
        "        elif ((age >= 19) & (age < 75)):\n",
        "            return 700\n",
        "        elif (age >= 75):\n",
        "            return 700\n",
        "    elif (sex == 2):\n",
        "        if ((age >= 6) & (age < 9)):\n",
        "            return 550\n",
        "        elif ((age >= 9) & (age < 19)):\n",
        "            return 1200\n",
        "        elif ((age >= 12) & (age < 75)):\n",
        "            return 700\n",
        "        elif (age >= 75):\n",
        "            return 700\n",
        "    else:\n",
        "      return 0"
      ],
      "execution_count": null,
      "outputs": []
    },
    {
      "cell_type": "code",
      "metadata": {
        "id": "wYNVLp9HJ_-A",
        "colab_type": "code",
        "colab": {}
      },
      "source": [
        "df['SN_PHOS'] = df.apply(standard_PHOS, axis=1)"
      ],
      "execution_count": null,
      "outputs": []
    },
    {
      "cell_type": "code",
      "metadata": {
        "id": "cB62nOafQFUr",
        "colab_type": "code",
        "colab": {}
      },
      "source": [
        "def standard_NA(series):\n",
        "    age = series[\"age\"]\n",
        "    sex = series[\"sex\"]\n",
        "\n",
        "    if ((age >= 1) & (age < 3)):\n",
        "        return 0.9\n",
        "    elif ((age >= 3) & (age < 6)):\n",
        "        return 1.0\n",
        "    elif ((age >= 6) & (age < 9)):\n",
        "        return 1.2\n",
        "    elif ((age >= 9) & (age < 12)):\n",
        "        return 1.4\n",
        "    elif ((age >= 12) & (age < 65)):\n",
        "        return 1.5\n",
        "    elif ((age >= 65) & (age < 75)):\n",
        "        return 1.3\n",
        "    elif (age >= 75):\n",
        "        return 1.1\n",
        "    else:\n",
        "      return 0"
      ],
      "execution_count": null,
      "outputs": []
    },
    {
      "cell_type": "code",
      "metadata": {
        "id": "JFjey0G8RNXR",
        "colab_type": "code",
        "colab": {}
      },
      "source": [
        "df['SN_NA'] = df.apply(standard_NA, axis=1)"
      ],
      "execution_count": null,
      "outputs": []
    },
    {
      "cell_type": "code",
      "metadata": {
        "id": "cATN1-pEQTea",
        "colab_type": "code",
        "colab": {}
      },
      "source": [
        "def standard_K(series):\n",
        "    age = series[\"age\"]\n",
        "    sex = series[\"sex\"]\n",
        "\n",
        "    if ((age >= 1) & (age < 3)):\n",
        "        return 2.0\n",
        "    elif ((age >= 3) & (age < 6)):\n",
        "        return 2.3\n",
        "    elif ((age >= 6) & (age < 9)):\n",
        "        return 2.6\n",
        "    elif ((age >= 9) & (age < 12)):\n",
        "        return 3.0\n",
        "    elif ((age >= 12) & (age < 75)):\n",
        "        return 3.5\n",
        "    elif (age >= 75):\n",
        "        return 3.5\n",
        "    else:\n",
        "      return 0"
      ],
      "execution_count": null,
      "outputs": []
    },
    {
      "cell_type": "code",
      "metadata": {
        "id": "7f9MWB6qRK9v",
        "colab_type": "code",
        "colab": {}
      },
      "source": [
        "df['SN_K'] = df.apply(standard_K, axis=1)"
      ],
      "execution_count": null,
      "outputs": []
    },
    {
      "cell_type": "code",
      "metadata": {
        "id": "OYOFO0XGQVKa",
        "colab_type": "code",
        "colab": {}
      },
      "source": [
        "def standard_FE(series):\n",
        "    age = series[\"age\"]\n",
        "    sex = series[\"sex\"]\n",
        "\n",
        "    if ((age >= 1) & (age < 6)):\n",
        "        return 6\n",
        "    elif (sex == 1):\n",
        "        if ((age >= 6) & (age < 9)):\n",
        "            return 9\n",
        "        elif ((age >= 9) & (age < 12)):\n",
        "            return 10\n",
        "        elif ((age >= 12) & (age < 19)):\n",
        "            return 14\n",
        "        elif ((age >= 19) & (age < 65)):\n",
        "            return 10\n",
        "        elif ((age >= 65) & (age < 75)):\n",
        "            return 9\n",
        "        elif (age >= 75):\n",
        "            return 9\n",
        "    elif (sex == 2):\n",
        "        if ((age >= 6) & (age < 9)):\n",
        "            return 8\n",
        "        elif ((age >= 9) & (age < 12)):\n",
        "            return 10\n",
        "        elif ((age >= 12) & (age < 15)):\n",
        "            return 16\n",
        "        elif ((age >= 15) & (age < 50)):\n",
        "            return 14\n",
        "        elif ((age >= 50) & (age < 75)):\n",
        "            return 8\n",
        "        elif (age >= 75):\n",
        "            return 7\n",
        "    else:\n",
        "      return 0"
      ],
      "execution_count": null,
      "outputs": []
    },
    {
      "cell_type": "code",
      "metadata": {
        "id": "BSdtYuPNTJo6",
        "colab_type": "code",
        "colab": {}
      },
      "source": [
        "df['SN_FE'] = df.apply(standard_FE, axis=1)"
      ],
      "execution_count": null,
      "outputs": []
    },
    {
      "cell_type": "code",
      "metadata": {
        "id": "sTvHVryf7lrO",
        "colab_type": "code",
        "colab": {}
      },
      "source": [
        "print(df[['age', 'sex', 'N_EN', 'SN_EN', 'N_PROT', 'SN_PROT', 'N_TDF', 'SN_TDF', 'N_WATER', 'SN_WATER', 'N_VITC', 'SN_VITC', 'N_B1', 'SN_B1', 'N_B2', 'SN_B2', 'N_NIAC', 'SN_NIAC', 'N_VA_RAE', 'SN_VA_RAE', 'N_CA', 'SN_CA', 'N_PHOS', 'SN_PHOS', 'N_NA', 'SN_NA', 'N_K', 'SN_K', 'N_FE', 'SN_FE']])"
      ],
      "execution_count": null,
      "outputs": []
    },
    {
      "cell_type": "code",
      "metadata": {
        "id": "40n3mQwEyec7",
        "colab_type": "code",
        "colab": {}
      },
      "source": [
        "# --- 표준영양소값과 개인별 영양소값의 차이를 구하기 ---"
      ],
      "execution_count": null,
      "outputs": []
    },
    {
      "cell_type": "code",
      "metadata": {
        "id": "dm5TwpGCEceH",
        "colab_type": "code",
        "colab": {}
      },
      "source": [
        "df['Diff_EN'] = np.where(df['N_EN'] == df['SN_EN'], 0, df['N_EN']-df['SN_EN'])\n",
        "df['Diff_PROT'] = np.where(df['N_PROT'] == df['SN_PROT'], 0, df['N_PROT']-df['SN_PROT'])\n",
        "df['Diff_TDF'] = np.where(df['N_TDF'] == df['SN_TDF'], 0, df['N_TDF']-df['SN_TDF'])\n",
        "df['Diff_WATER'] = np.where(df['N_WATER'] == df['SN_WATER'], 0, df['N_WATER']-df['SN_WATER'])\n",
        "df['Diff_VITC'] = np.where(df['N_VITC'] == df['SN_VITC'], 0, df['N_VITC']-df['SN_VITC'])\n",
        "df['Diff_B1'] = np.where(df['N_B1'] == df['SN_B1'], 0, df['N_B1']-df['SN_B1'])\n",
        "df['Diff_B2'] = np.where(df['N_B2'] == df['SN_B2'], 0, df['N_B2']-df['SN_B2'])\n",
        "df['Diff_NIAC'] = np.where(df['N_NIAC'] == df['SN_NIAC'], 0, df['N_NIAC']-df['SN_NIAC'])\n",
        "df['Diff_VA_RAE'] = np.where(df['N_VA_RAE'] == df['SN_VA_RAE'], 0, df['N_VA_RAE']-df['SN_VA_RAE'])\n",
        "df['Diff_CA'] = np.where(df['N_CA'] == df['SN_CA'], 0, df['N_CA']-df['SN_CA'])\n",
        "df['Diff_PHOS'] = np.where(df['N_PHOS'] == df['SN_PHOS'], 0, df['N_PHOS']-df['SN_PHOS'])\n",
        "df['Diff_NA'] = np.where(df['N_NA'] == df['SN_NA'], 0, df['N_NA']-df['SN_NA'])\n",
        "df['Diff_K'] = np.where(df['N_K'] == df['SN_K'], 0, df['N_K']-df['SN_K'])\n",
        "df['Diff_FE'] = np.where(df['N_FE'] == df['SN_FE'], 0, df['N_FE']-df['SN_FE'])\n",
        "\n",
        "print(df[['N_EN', 'SN_EN', 'Diff_EN', 'N_PROT', 'SN_PROT', 'Diff_PROT', 'N_TDF', 'SN_TDF', 'Diff_TDF', \n",
        "          'N_WATER', 'SN_WATER', 'Diff_WATER', 'N_VITC', 'SN_VITC', 'Diff_VITC', 'N_B1', 'SN_B1', 'Diff_B1',\n",
        "          'N_B2', 'SN_B2', 'Diff_B2', 'N_NIAC', 'SN_NIAC', 'Diff_NIAC', 'N_VA_RAE', 'SN_VA_RAE', 'Diff_VA_RAE',\n",
        "          'N_CA', 'SN_CA', 'Diff_CA', 'N_PHOS', 'SN_PHOS', 'Diff_PHOS', 'N_NA', 'SN_NA', 'Diff_NA',\n",
        "          'N_K', 'SN_K', 'Diff_K', 'N_FE', 'SN_FE', 'Diff_FE']])"
      ],
      "execution_count": null,
      "outputs": []
    },
    {
      "cell_type": "code",
      "metadata": {
        "id": "I4K4hLIMVClT",
        "colab_type": "code",
        "colab": {}
      },
      "source": [
        "pd.set_option(\"max_columns\", None)\n",
        "print(df[['Diff_EN', 'Diff_PROT', 'Diff_TDF', 'Diff_WATER', 'Diff_VITC', \n",
        "          'Diff_B1', 'Diff_B2','Diff_NIAC', 'Diff_VA_RAE', 'Diff_CA', \n",
        "          'Diff_PHOS', 'Diff_NA', 'Diff_K', 'Diff_FE']])"
      ],
      "execution_count": null,
      "outputs": []
    },
    {
      "cell_type": "code",
      "metadata": {
        "id": "OphPUETKatA3",
        "colab_type": "code",
        "colab": {}
      },
      "source": [
        ""
      ],
      "execution_count": null,
      "outputs": []
    }
  ]
}